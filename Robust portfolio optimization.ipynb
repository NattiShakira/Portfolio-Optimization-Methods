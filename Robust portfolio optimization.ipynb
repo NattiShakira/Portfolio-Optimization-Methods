{
 "cells": [
  {
   "cell_type": "markdown",
   "metadata": {},
   "source": [
    "# Robust portfolio optimization"
   ]
  },
  {
   "cell_type": "markdown",
   "metadata": {},
   "source": [
    "In this notebook we explore three methods of portfolio oprimization, including well-known Markowitz optimization and its robust alternatives - Resampling and Black-Litterman model.\n",
    "\n",
    "First of all, we need to import packages that we will use to run our codes. Becides the standard modules, we created our own functions. These functions are are located in the accompanying file called 'functions.py', we import it by typing \"import functions as fun\"."
   ]
  },
  {
   "cell_type": "code",
   "execution_count": 1,
   "metadata": {},
   "outputs": [],
   "source": [
    "import pandas as pd\n",
    "import numpy as np\n",
    "import matplotlib.pyplot as plt\n",
    "%matplotlib inline\n",
    "import functions as fun  # This is our own module that we need to import\n",
    "%load_ext autoreload\n",
    "%autoreload 2"
   ]
  },
  {
   "cell_type": "markdown",
   "metadata": {},
   "source": [
    "## 1. Markowitz Mean-Variance Optimization"
   ]
  },
  {
   "cell_type": "markdown",
   "metadata": {},
   "source": [
    "In this section we will do the following:\n",
    "\n",
    "1) We import data needed for the model: expected returns, covariance matrices, and risk-free rate:\n",
    "- risk-free rate is assumed to be 1.5%;\n",
    "- expected returns are annualized historical returns;\n",
    "- covariance matrices are also annualized.\n",
    "\n",
    "We take historical data for the period of one year only. We start with the year 2010.\n",
    "\n",
    "2) Using this data, we run two fuctions from our own module - fun.msr() and fun.gmv(), they give us weights of the two portfolios that are located on the efficient frontier: \n",
    "- Maximum Sharpe Ratio portfolio (abbreviated as MSR): this is a porfolio that is build from the available stocks and that has the highest Sharpe ratio compared to all the other portfolios that can be constructed from the given assets.\n",
    "- Global Minimum Variance portfolio (abbreviated as GMV): this is a portfolio that has the lowest possible volatility.\n",
    "\n",
    "The following constraint is considered when building portfolios: the sum of the weights is equal to 100%, this implies that:\n",
    "- no shorting is allowed (the sum of weights cannot be larger than 100%).\n",
    "- we are fully invested in risky assets, we don't use a risk-free asset in our portfoio (the sum cannot be smaller than 100%).\n",
    "\n",
    "This way we get in-sample portfolios for the year 2010. We will compute their returns and volatilies. These weights we will use as a guidance for allocation of our assets for the next year - 2011.\n",
    "\n",
    "3) Then we are interested in knowing what returns and volatilities our portfolios would give us as the year 2011 ends; these are so-called out-of-sample portfolios' characteristics.\n",
    "\n",
    "For this, we need historical returns and volatilities of the constituents of our portfolios for the year 2011. With this, we can compare our portfolios' returns and volalities that we expected and that we actually got.\n",
    "\n",
    "4) For comparison, we also compute \"ideal\" allocation for MSR and GMV portfolios (and their returns and voltilities), based on historical risk-return characterictics of the stocks for the year 2011 (in-sample portfolios for the year 2011). These are the \"best possible\" portfolios that we could have gotten if we had a gift of clairvoyance. Let us see how far (or close) our real portfolios and those that we expected, are from these \"best\" portfolios."
   ]
  },
  {
   "cell_type": "markdown",
   "metadata": {},
   "source": [
    "### 1.1. In-sample portfolios (2010)"
   ]
  },
  {
   "cell_type": "markdown",
   "metadata": {},
   "source": [
    "1.1.1. Let us upload data for 2010 from the provided excel file \"Data\"."
   ]
  },
  {
   "cell_type": "code",
   "execution_count": 2,
   "metadata": {},
   "outputs": [],
   "source": [
    "rf = 0.015"
   ]
  },
  {
   "cell_type": "code",
   "execution_count": 3,
   "metadata": {
    "scrolled": true
   },
   "outputs": [
    {
     "data": {
      "text/plain": [
       "AHOLD DELHAIZE      0.062434\n",
       "L'AIR LIQUIDE       0.217657\n",
       "BASF                0.373677\n",
       "SAINT GOBAIN        0.011295\n",
       "ENDESA             -0.194195\n",
       "KERING              0.412631\n",
       "L'OREAL             0.065128\n",
       "LVMH                0.570554\n",
       "MUNICH INSURANCE    0.043986\n",
       "SANOFI             -0.130948\n",
       "Name: 2010, dtype: float64"
      ]
     },
     "execution_count": 3,
     "metadata": {},
     "output_type": "execute_result"
    }
   ],
   "source": [
    "ann_returns_2010 = pd.read_excel('Data.xlsx','Annualized returns', index_col=[0])['2010']\n",
    "ann_returns_2010"
   ]
  },
  {
   "cell_type": "code",
   "execution_count": 4,
   "metadata": {
    "scrolled": true
   },
   "outputs": [
    {
     "data": {
      "text/html": [
       "<div>\n",
       "<style scoped>\n",
       "    .dataframe tbody tr th:only-of-type {\n",
       "        vertical-align: middle;\n",
       "    }\n",
       "\n",
       "    .dataframe tbody tr th {\n",
       "        vertical-align: top;\n",
       "    }\n",
       "\n",
       "    .dataframe thead th {\n",
       "        text-align: right;\n",
       "    }\n",
       "</style>\n",
       "<table border=\"1\" class=\"dataframe\">\n",
       "  <thead>\n",
       "    <tr style=\"text-align: right;\">\n",
       "      <th></th>\n",
       "      <th>AHOLD DELHAIZE</th>\n",
       "      <th>L'AIR LIQUIDE</th>\n",
       "      <th>BASF</th>\n",
       "      <th>SAINT GOBAIN</th>\n",
       "      <th>ENDESA</th>\n",
       "      <th>KERING</th>\n",
       "      <th>L'OREAL</th>\n",
       "      <th>LVMH</th>\n",
       "      <th>MUNICH INSURANCE</th>\n",
       "      <th>SANOFI</th>\n",
       "    </tr>\n",
       "  </thead>\n",
       "  <tbody>\n",
       "    <tr>\n",
       "      <th>AHOLD DELHAIZE</th>\n",
       "      <td>0.027750</td>\n",
       "      <td>0.016768</td>\n",
       "      <td>0.012931</td>\n",
       "      <td>0.023525</td>\n",
       "      <td>0.016914</td>\n",
       "      <td>0.017910</td>\n",
       "      <td>0.012681</td>\n",
       "      <td>0.019016</td>\n",
       "      <td>0.009400</td>\n",
       "      <td>0.014142</td>\n",
       "    </tr>\n",
       "    <tr>\n",
       "      <th>L'AIR LIQUIDE</th>\n",
       "      <td>0.016768</td>\n",
       "      <td>0.061579</td>\n",
       "      <td>0.051749</td>\n",
       "      <td>0.068990</td>\n",
       "      <td>0.035780</td>\n",
       "      <td>0.044785</td>\n",
       "      <td>0.040723</td>\n",
       "      <td>0.056094</td>\n",
       "      <td>0.027330</td>\n",
       "      <td>0.038548</td>\n",
       "    </tr>\n",
       "    <tr>\n",
       "      <th>BASF</th>\n",
       "      <td>0.012931</td>\n",
       "      <td>0.051749</td>\n",
       "      <td>0.072493</td>\n",
       "      <td>0.068341</td>\n",
       "      <td>0.031458</td>\n",
       "      <td>0.048982</td>\n",
       "      <td>0.041764</td>\n",
       "      <td>0.058895</td>\n",
       "      <td>0.030578</td>\n",
       "      <td>0.038265</td>\n",
       "    </tr>\n",
       "    <tr>\n",
       "      <th>SAINT GOBAIN</th>\n",
       "      <td>0.023525</td>\n",
       "      <td>0.068990</td>\n",
       "      <td>0.068341</td>\n",
       "      <td>0.128862</td>\n",
       "      <td>0.054105</td>\n",
       "      <td>0.064919</td>\n",
       "      <td>0.054502</td>\n",
       "      <td>0.078701</td>\n",
       "      <td>0.037600</td>\n",
       "      <td>0.049860</td>\n",
       "    </tr>\n",
       "    <tr>\n",
       "      <th>ENDESA</th>\n",
       "      <td>0.016914</td>\n",
       "      <td>0.035780</td>\n",
       "      <td>0.031458</td>\n",
       "      <td>0.054105</td>\n",
       "      <td>0.063525</td>\n",
       "      <td>0.037132</td>\n",
       "      <td>0.027936</td>\n",
       "      <td>0.040056</td>\n",
       "      <td>0.023004</td>\n",
       "      <td>0.028036</td>\n",
       "    </tr>\n",
       "  </tbody>\n",
       "</table>\n",
       "</div>"
      ],
      "text/plain": [
       "                AHOLD DELHAIZE  L'AIR LIQUIDE      BASF  SAINT GOBAIN  \\\n",
       "AHOLD DELHAIZE        0.027750       0.016768  0.012931      0.023525   \n",
       "L'AIR LIQUIDE         0.016768       0.061579  0.051749      0.068990   \n",
       "BASF                  0.012931       0.051749  0.072493      0.068341   \n",
       "SAINT GOBAIN          0.023525       0.068990  0.068341      0.128862   \n",
       "ENDESA                0.016914       0.035780  0.031458      0.054105   \n",
       "\n",
       "                  ENDESA    KERING   L'OREAL      LVMH  MUNICH INSURANCE  \\\n",
       "AHOLD DELHAIZE  0.016914  0.017910  0.012681  0.019016          0.009400   \n",
       "L'AIR LIQUIDE   0.035780  0.044785  0.040723  0.056094          0.027330   \n",
       "BASF            0.031458  0.048982  0.041764  0.058895          0.030578   \n",
       "SAINT GOBAIN    0.054105  0.064919  0.054502  0.078701          0.037600   \n",
       "ENDESA          0.063525  0.037132  0.027936  0.040056          0.023004   \n",
       "\n",
       "                  SANOFI  \n",
       "AHOLD DELHAIZE  0.014142  \n",
       "L'AIR LIQUIDE   0.038548  \n",
       "BASF            0.038265  \n",
       "SAINT GOBAIN    0.049860  \n",
       "ENDESA          0.028036  "
      ]
     },
     "execution_count": 4,
     "metadata": {},
     "output_type": "execute_result"
    }
   ],
   "source": [
    "ann_cov_2010 = pd.read_excel('Data.xlsx','Covariance 2010',index_col=[0])\n",
    "ann_cov_2010.head()"
   ]
  },
  {
   "cell_type": "markdown",
   "metadata": {},
   "source": [
    "1.1.2. Using two functions from our module (fun.msr() and fun.gmv()), we get weights of MSR and GMV portfolios for the year 2010:"
   ]
  },
  {
   "cell_type": "code",
   "execution_count": 5,
   "metadata": {},
   "outputs": [
    {
     "data": {
      "text/html": [
       "<div>\n",
       "<style scoped>\n",
       "    .dataframe tbody tr th:only-of-type {\n",
       "        vertical-align: middle;\n",
       "    }\n",
       "\n",
       "    .dataframe tbody tr th {\n",
       "        vertical-align: top;\n",
       "    }\n",
       "\n",
       "    .dataframe thead th {\n",
       "        text-align: right;\n",
       "    }\n",
       "</style>\n",
       "<table border=\"1\" class=\"dataframe\">\n",
       "  <thead>\n",
       "    <tr style=\"text-align: right;\">\n",
       "      <th></th>\n",
       "      <th>Weights in-sample MSR 2010</th>\n",
       "      <th>Weights in-sample GMV 2010</th>\n",
       "    </tr>\n",
       "  </thead>\n",
       "  <tbody>\n",
       "    <tr>\n",
       "      <th>AHOLD DELHAIZE</th>\n",
       "      <td>0.0000</td>\n",
       "      <td>0.5395</td>\n",
       "    </tr>\n",
       "    <tr>\n",
       "      <th>L'AIR LIQUIDE</th>\n",
       "      <td>0.0000</td>\n",
       "      <td>0.0000</td>\n",
       "    </tr>\n",
       "    <tr>\n",
       "      <th>BASF</th>\n",
       "      <td>0.0000</td>\n",
       "      <td>0.0000</td>\n",
       "    </tr>\n",
       "    <tr>\n",
       "      <th>SAINT GOBAIN</th>\n",
       "      <td>0.0000</td>\n",
       "      <td>0.0000</td>\n",
       "    </tr>\n",
       "    <tr>\n",
       "      <th>ENDESA</th>\n",
       "      <td>0.0000</td>\n",
       "      <td>0.0000</td>\n",
       "    </tr>\n",
       "    <tr>\n",
       "      <th>KERING</th>\n",
       "      <td>0.0939</td>\n",
       "      <td>0.0000</td>\n",
       "    </tr>\n",
       "    <tr>\n",
       "      <th>L'OREAL</th>\n",
       "      <td>0.0000</td>\n",
       "      <td>0.0394</td>\n",
       "    </tr>\n",
       "    <tr>\n",
       "      <th>LVMH</th>\n",
       "      <td>0.9061</td>\n",
       "      <td>0.0000</td>\n",
       "    </tr>\n",
       "    <tr>\n",
       "      <th>MUNICH INSURANCE</th>\n",
       "      <td>0.0000</td>\n",
       "      <td>0.3836</td>\n",
       "    </tr>\n",
       "    <tr>\n",
       "      <th>SANOFI</th>\n",
       "      <td>0.0000</td>\n",
       "      <td>0.0374</td>\n",
       "    </tr>\n",
       "  </tbody>\n",
       "</table>\n",
       "</div>"
      ],
      "text/plain": [
       "                  Weights in-sample MSR 2010  Weights in-sample GMV 2010\n",
       "AHOLD DELHAIZE                        0.0000                      0.5395\n",
       "L'AIR LIQUIDE                         0.0000                      0.0000\n",
       "BASF                                  0.0000                      0.0000\n",
       "SAINT GOBAIN                          0.0000                      0.0000\n",
       "ENDESA                                0.0000                      0.0000\n",
       "KERING                                0.0939                      0.0000\n",
       "L'OREAL                               0.0000                      0.0394\n",
       "LVMH                                  0.9061                      0.0000\n",
       "MUNICH INSURANCE                      0.0000                      0.3836\n",
       "SANOFI                                0.0000                      0.0374"
      ]
     },
     "execution_count": 5,
     "metadata": {},
     "output_type": "execute_result"
    }
   ],
   "source": [
    "msr_2010 = fun.msr(rf, ann_returns_2010, ann_cov_2010)\n",
    "gmv_2010 = fun.gmv(ann_cov_2010)\n",
    "pd.DataFrame({'Weights in-sample MSR 2010': msr_2010.round(4),\n",
    "             'Weights in-sample GMV 2010': gmv_2010.round(4)}, ann_returns_2010.index)"
   ]
  },
  {
   "cell_type": "markdown",
   "metadata": {},
   "source": [
    "From the table above we can see that our MSR portfolio consists of two stocks only, meaning it is not well-diversified, plus constituents' weights are not balanced (KERING 9.39% and LVMH 90.61%).\n",
    "\n",
    "As for the GMV portfolio, it contains more assets, that are different from those contained in the MSR portfolio, but they are also quite concentrated (AHOLD DELHAIZE 53.95%, L'OREAL 03.94%, MUNICH INSURANCE 38.36%, SANOFI 3.74%). "
   ]
  },
  {
   "cell_type": "markdown",
   "metadata": {},
   "source": [
    "1.1.3. Now, let us calculate our portfolios' risk-return characteristics (in-sample parameters for the year 2010):"
   ]
  },
  {
   "cell_type": "code",
   "execution_count": 6,
   "metadata": {},
   "outputs": [
    {
     "data": {
      "text/html": [
       "<div>\n",
       "<style scoped>\n",
       "    .dataframe tbody tr th:only-of-type {\n",
       "        vertical-align: middle;\n",
       "    }\n",
       "\n",
       "    .dataframe tbody tr th {\n",
       "        vertical-align: top;\n",
       "    }\n",
       "\n",
       "    .dataframe thead th {\n",
       "        text-align: right;\n",
       "    }\n",
       "</style>\n",
       "<table border=\"1\" class=\"dataframe\">\n",
       "  <thead>\n",
       "    <tr style=\"text-align: right;\">\n",
       "      <th></th>\n",
       "      <th>In-sample MSR 2010</th>\n",
       "      <th>In-sample GMV 2010</th>\n",
       "    </tr>\n",
       "  </thead>\n",
       "  <tbody>\n",
       "    <tr>\n",
       "      <th>Portfolio return</th>\n",
       "      <td>0.5557</td>\n",
       "      <td>0.0482</td>\n",
       "    </tr>\n",
       "    <tr>\n",
       "      <th>Portfolio volatility</th>\n",
       "      <td>0.2847</td>\n",
       "      <td>0.1400</td>\n",
       "    </tr>\n",
       "    <tr>\n",
       "      <th>Sharpe ratio</th>\n",
       "      <td>1.9000</td>\n",
       "      <td>0.2400</td>\n",
       "    </tr>\n",
       "  </tbody>\n",
       "</table>\n",
       "</div>"
      ],
      "text/plain": [
       "                      In-sample MSR 2010  In-sample GMV 2010\n",
       "Portfolio return                  0.5557              0.0482\n",
       "Portfolio volatility              0.2847              0.1400\n",
       "Sharpe ratio                      1.9000              0.2400"
      ]
     },
     "execution_count": 6,
     "metadata": {},
     "output_type": "execute_result"
    }
   ],
   "source": [
    "# MSR portfolio\n",
    "ret_msr_2010 = fun.portfolio_return(msr_2010, ann_returns_2010)\n",
    "vol_msr_2010 = fun.portfolio_vol(msr_2010, ann_cov_2010)\n",
    "sharpe_msr_2010 = fun.sharpe(ret_msr_2010, vol_msr_2010, rf)\n",
    "\n",
    "# GMV portfolio\n",
    "ret_gmv_2010 = fun.portfolio_return(gmv_2010, ann_returns_2010)\n",
    "vol_gmv_2010 = fun.portfolio_vol(gmv_2010, ann_cov_2010)\n",
    "sharpe_gmv_2010 = fun.sharpe(ret_gmv_2010, vol_gmv_2010, rf)\n",
    "\n",
    "# Putting everything in a table\n",
    "pd.concat([pd.DataFrame({'In-sample MSR 2010': ret_msr_2010.round(4),\n",
    "             'In-sample GMV 2010': ret_gmv_2010.round(4)}, index = ['Portfolio return']),\n",
    "           pd.DataFrame({'In-sample MSR 2010': vol_msr_2010.round(4),\n",
    "             'In-sample GMV 2010': vol_gmv_2010.round(4)}, index = ['Portfolio volatility']),\n",
    "          pd.DataFrame({'In-sample MSR 2010': sharpe_msr_2010.round(2),\n",
    "             'In-sample GMV 2010': sharpe_gmv_2010.round(2)}, index = ['Sharpe ratio'])\n",
    "          ], axis=0)"
   ]
  },
  {
   "cell_type": "markdown",
   "metadata": {},
   "source": [
    "### 1.2. Out-of-sample portfolios (2011)"
   ]
  },
  {
   "cell_type": "markdown",
   "metadata": {},
   "source": [
    "1.2.1. From the same excel file, let us upload data for the year 2011."
   ]
  },
  {
   "cell_type": "code",
   "execution_count": 7,
   "metadata": {},
   "outputs": [
    {
     "data": {
      "text/plain": [
       "AHOLD DELHAIZE      0.0576\n",
       "L'AIR LIQUIDE       0.0100\n",
       "BASF               -0.0973\n",
       "SAINT GOBAIN       -0.2295\n",
       "ENDESA             -0.1785\n",
       "KERING             -0.0702\n",
       "L'OREAL            -0.0286\n",
       "LVMH               -0.1113\n",
       "MUNICH INSURANCE   -0.1646\n",
       "SANOFI              0.1860\n",
       "Name: 2011, dtype: float64"
      ]
     },
     "execution_count": 7,
     "metadata": {},
     "output_type": "execute_result"
    }
   ],
   "source": [
    "ann_returns_2011 = pd.read_excel('Data.xlsx','Annualized returns',index_col=[0])['2011']\n",
    "ann_returns_2011.round(4)"
   ]
  },
  {
   "cell_type": "code",
   "execution_count": 8,
   "metadata": {},
   "outputs": [
    {
     "data": {
      "text/html": [
       "<div>\n",
       "<style scoped>\n",
       "    .dataframe tbody tr th:only-of-type {\n",
       "        vertical-align: middle;\n",
       "    }\n",
       "\n",
       "    .dataframe tbody tr th {\n",
       "        vertical-align: top;\n",
       "    }\n",
       "\n",
       "    .dataframe thead th {\n",
       "        text-align: right;\n",
       "    }\n",
       "</style>\n",
       "<table border=\"1\" class=\"dataframe\">\n",
       "  <thead>\n",
       "    <tr style=\"text-align: right;\">\n",
       "      <th></th>\n",
       "      <th>AHOLD DELHAIZE</th>\n",
       "      <th>L'AIR LIQUIDE</th>\n",
       "      <th>BASF</th>\n",
       "      <th>SAINT GOBAIN</th>\n",
       "      <th>ENDESA</th>\n",
       "      <th>KERING</th>\n",
       "      <th>L'OREAL</th>\n",
       "      <th>LVMH</th>\n",
       "      <th>MUNICH INSURANCE</th>\n",
       "      <th>SANOFI</th>\n",
       "    </tr>\n",
       "  </thead>\n",
       "  <tbody>\n",
       "    <tr>\n",
       "      <th>AHOLD DELHAIZE</th>\n",
       "      <td>0.034979</td>\n",
       "      <td>0.021325</td>\n",
       "      <td>0.031700</td>\n",
       "      <td>0.036684</td>\n",
       "      <td>0.025863</td>\n",
       "      <td>0.024650</td>\n",
       "      <td>0.018881</td>\n",
       "      <td>0.024795</td>\n",
       "      <td>0.029608</td>\n",
       "      <td>0.023963</td>\n",
       "    </tr>\n",
       "    <tr>\n",
       "      <th>L'AIR LIQUIDE</th>\n",
       "      <td>0.021325</td>\n",
       "      <td>0.056416</td>\n",
       "      <td>0.068911</td>\n",
       "      <td>0.079857</td>\n",
       "      <td>0.045677</td>\n",
       "      <td>0.052329</td>\n",
       "      <td>0.036390</td>\n",
       "      <td>0.056463</td>\n",
       "      <td>0.051929</td>\n",
       "      <td>0.043751</td>\n",
       "    </tr>\n",
       "    <tr>\n",
       "      <th>BASF</th>\n",
       "      <td>0.031700</td>\n",
       "      <td>0.068911</td>\n",
       "      <td>0.123701</td>\n",
       "      <td>0.115596</td>\n",
       "      <td>0.067719</td>\n",
       "      <td>0.077353</td>\n",
       "      <td>0.051038</td>\n",
       "      <td>0.082154</td>\n",
       "      <td>0.080485</td>\n",
       "      <td>0.061491</td>\n",
       "    </tr>\n",
       "    <tr>\n",
       "      <th>SAINT GOBAIN</th>\n",
       "      <td>0.036684</td>\n",
       "      <td>0.079857</td>\n",
       "      <td>0.115596</td>\n",
       "      <td>0.181559</td>\n",
       "      <td>0.088856</td>\n",
       "      <td>0.095405</td>\n",
       "      <td>0.063138</td>\n",
       "      <td>0.102916</td>\n",
       "      <td>0.098725</td>\n",
       "      <td>0.075509</td>\n",
       "    </tr>\n",
       "    <tr>\n",
       "      <th>ENDESA</th>\n",
       "      <td>0.025863</td>\n",
       "      <td>0.045677</td>\n",
       "      <td>0.067719</td>\n",
       "      <td>0.088856</td>\n",
       "      <td>0.087417</td>\n",
       "      <td>0.050718</td>\n",
       "      <td>0.036573</td>\n",
       "      <td>0.057434</td>\n",
       "      <td>0.066297</td>\n",
       "      <td>0.048306</td>\n",
       "    </tr>\n",
       "  </tbody>\n",
       "</table>\n",
       "</div>"
      ],
      "text/plain": [
       "                AHOLD DELHAIZE  L'AIR LIQUIDE      BASF  SAINT GOBAIN  \\\n",
       "AHOLD DELHAIZE        0.034979       0.021325  0.031700      0.036684   \n",
       "L'AIR LIQUIDE         0.021325       0.056416  0.068911      0.079857   \n",
       "BASF                  0.031700       0.068911  0.123701      0.115596   \n",
       "SAINT GOBAIN          0.036684       0.079857  0.115596      0.181559   \n",
       "ENDESA                0.025863       0.045677  0.067719      0.088856   \n",
       "\n",
       "                  ENDESA    KERING   L'OREAL      LVMH  MUNICH INSURANCE  \\\n",
       "AHOLD DELHAIZE  0.025863  0.024650  0.018881  0.024795          0.029608   \n",
       "L'AIR LIQUIDE   0.045677  0.052329  0.036390  0.056463          0.051929   \n",
       "BASF            0.067719  0.077353  0.051038  0.082154          0.080485   \n",
       "SAINT GOBAIN    0.088856  0.095405  0.063138  0.102916          0.098725   \n",
       "ENDESA          0.087417  0.050718  0.036573  0.057434          0.066297   \n",
       "\n",
       "                  SANOFI  \n",
       "AHOLD DELHAIZE  0.023963  \n",
       "L'AIR LIQUIDE   0.043751  \n",
       "BASF            0.061491  \n",
       "SAINT GOBAIN    0.075509  \n",
       "ENDESA          0.048306  "
      ]
     },
     "execution_count": 8,
     "metadata": {},
     "output_type": "execute_result"
    }
   ],
   "source": [
    "ann_cov_2011 = pd.read_excel('Data.xlsx','Covariance 2011',index_col=[0])\n",
    "ann_cov_2011.head()"
   ]
  },
  {
   "cell_type": "markdown",
   "metadata": {},
   "source": [
    "1.2.2. Based on the weights above (subsection 1.1.2) and risk-return characteristics that our stocks had in 2011, we calculate returns and volatilities of our \"real\" portfolios (out-of-sample portfolios' parameters of the year 2011):"
   ]
  },
  {
   "cell_type": "code",
   "execution_count": 9,
   "metadata": {},
   "outputs": [
    {
     "data": {
      "text/html": [
       "<div>\n",
       "<style scoped>\n",
       "    .dataframe tbody tr th:only-of-type {\n",
       "        vertical-align: middle;\n",
       "    }\n",
       "\n",
       "    .dataframe tbody tr th {\n",
       "        vertical-align: top;\n",
       "    }\n",
       "\n",
       "    .dataframe thead th {\n",
       "        text-align: right;\n",
       "    }\n",
       "</style>\n",
       "<table border=\"1\" class=\"dataframe\">\n",
       "  <thead>\n",
       "    <tr style=\"text-align: right;\">\n",
       "      <th></th>\n",
       "      <th>Out-of-sample MSR 2011</th>\n",
       "      <th>Out-of-sample GMV 2011</th>\n",
       "    </tr>\n",
       "  </thead>\n",
       "  <tbody>\n",
       "    <tr>\n",
       "      <th>Portfolio return</th>\n",
       "      <td>-0.1074</td>\n",
       "      <td>-0.0262</td>\n",
       "    </tr>\n",
       "    <tr>\n",
       "      <th>Portfolio volatility</th>\n",
       "      <td>0.3149</td>\n",
       "      <td>0.2040</td>\n",
       "    </tr>\n",
       "    <tr>\n",
       "      <th>Sharpe ratio</th>\n",
       "      <td>-0.3900</td>\n",
       "      <td>-0.2000</td>\n",
       "    </tr>\n",
       "  </tbody>\n",
       "</table>\n",
       "</div>"
      ],
      "text/plain": [
       "                      Out-of-sample MSR 2011  Out-of-sample GMV 2011\n",
       "Portfolio return                     -0.1074                 -0.0262\n",
       "Portfolio volatility                  0.3149                  0.2040\n",
       "Sharpe ratio                         -0.3900                 -0.2000"
      ]
     },
     "execution_count": 9,
     "metadata": {},
     "output_type": "execute_result"
    }
   ],
   "source": [
    "# MSR portfolio\n",
    "ret_out_msr_2011 = fun.portfolio_return(msr_2010, ann_returns_2011)\n",
    "vol_out_msr_2011 = fun.portfolio_vol(msr_2010, ann_cov_2011)\n",
    "sharpe_out_msr_2011 = fun.sharpe(ret_out_msr_2011, vol_out_msr_2011, rf)\n",
    "\n",
    "# GMV portfolio\n",
    "ret_out_gmv_2011 = fun.portfolio_return(gmv_2010, ann_returns_2011)\n",
    "vol_out_gmv_2011 = fun.portfolio_vol(gmv_2010, ann_cov_2011)\n",
    "sharpe_out_gmv_2011 = fun.sharpe(ret_out_gmv_2011, vol_out_gmv_2011, rf)\n",
    "\n",
    "# Putting the computed characteristics into a table\n",
    "pd.concat([pd.DataFrame({'Out-of-sample MSR 2011': ret_out_msr_2011.round(4),\n",
    "             'Out-of-sample GMV 2011': ret_out_gmv_2011.round(4)}, index = ['Portfolio return']),\n",
    "           pd.DataFrame({'Out-of-sample MSR 2011': vol_out_msr_2011.round(4),\n",
    "             'Out-of-sample GMV 2011': vol_out_gmv_2011.round(4)}, index = ['Portfolio volatility']),\n",
    "          pd.DataFrame({'Out-of-sample MSR 2011': sharpe_out_msr_2011.round(2),\n",
    "             'Out-of-sample GMV 2011': sharpe_out_gmv_2011.round(2)}, index = ['Sharpe ratio'])\n",
    "          ], axis=0)"
   ]
  },
  {
   "cell_type": "markdown",
   "metadata": {},
   "source": [
    "#### If we compare in-sample portfolios of 2010 (what we expected) and out-of-sample portfolios of 2011 (our realized portfolios), we can see that:\n",
    "\n",
    "- with MSR we expected to earn almost 1.90% per unit of risk (with total portfolio return being 55.57% and volatility of 28.47%), but in reality we ended up with a negative return of -0.39% per unit of risk (total portfolio return is -10.74% and volatility is 31.48%);\n",
    "\n",
    "- with GMV we expected our portfolio volatility to be 14% (with total portfolio return of 4.82% and Sharpe ratio of 0.24%), but in reality our portfolio had the volatility of 20.40% (total portfolio return is -2.62% and Sharpe ratio is -0.2% per unit of risk).\n",
    "\n",
    "This lead to a conclusion that using historical parameters of a previous period to allocate assets for the next period does not guarantee that we get performance that we expect to have. "
   ]
  },
  {
   "cell_type": "markdown",
   "metadata": {},
   "source": [
    "### 1.3. In-sample portfolios (2011) and efficient frontiers"
   ]
  },
  {
   "cell_type": "markdown",
   "metadata": {},
   "source": [
    "1.3.1. Next questions that would be interesting to look at are: \n",
    "- What actually our in-sample portfolios in 2011 are? \n",
    "- What allocation could give us the highest Sharpe ratio (relevant for MSR) and the lowest volatility (relevant for GMV)?"
   ]
  },
  {
   "cell_type": "markdown",
   "metadata": {},
   "source": [
    "Weights of in-sample MSR and GMV portfolios are:"
   ]
  },
  {
   "cell_type": "code",
   "execution_count": 10,
   "metadata": {},
   "outputs": [
    {
     "data": {
      "text/html": [
       "<div>\n",
       "<style scoped>\n",
       "    .dataframe tbody tr th:only-of-type {\n",
       "        vertical-align: middle;\n",
       "    }\n",
       "\n",
       "    .dataframe tbody tr th {\n",
       "        vertical-align: top;\n",
       "    }\n",
       "\n",
       "    .dataframe thead th {\n",
       "        text-align: right;\n",
       "    }\n",
       "</style>\n",
       "<table border=\"1\" class=\"dataframe\">\n",
       "  <thead>\n",
       "    <tr style=\"text-align: right;\">\n",
       "      <th></th>\n",
       "      <th>Weights in-sample MSR 2011</th>\n",
       "      <th>Weights in-sample GMV 2011</th>\n",
       "    </tr>\n",
       "  </thead>\n",
       "  <tbody>\n",
       "    <tr>\n",
       "      <th>AHOLD DELHAIZE</th>\n",
       "      <td>0.0</td>\n",
       "      <td>0.6058</td>\n",
       "    </tr>\n",
       "    <tr>\n",
       "      <th>L'AIR LIQUIDE</th>\n",
       "      <td>0.0</td>\n",
       "      <td>0.0779</td>\n",
       "    </tr>\n",
       "    <tr>\n",
       "      <th>BASF</th>\n",
       "      <td>0.0</td>\n",
       "      <td>0.0000</td>\n",
       "    </tr>\n",
       "    <tr>\n",
       "      <th>SAINT GOBAIN</th>\n",
       "      <td>0.0</td>\n",
       "      <td>0.0000</td>\n",
       "    </tr>\n",
       "    <tr>\n",
       "      <th>ENDESA</th>\n",
       "      <td>0.0</td>\n",
       "      <td>0.0000</td>\n",
       "    </tr>\n",
       "    <tr>\n",
       "      <th>KERING</th>\n",
       "      <td>0.0</td>\n",
       "      <td>0.0000</td>\n",
       "    </tr>\n",
       "    <tr>\n",
       "      <th>L'OREAL</th>\n",
       "      <td>0.0</td>\n",
       "      <td>0.3163</td>\n",
       "    </tr>\n",
       "    <tr>\n",
       "      <th>LVMH</th>\n",
       "      <td>0.0</td>\n",
       "      <td>0.0000</td>\n",
       "    </tr>\n",
       "    <tr>\n",
       "      <th>MUNICH INSURANCE</th>\n",
       "      <td>0.0</td>\n",
       "      <td>0.0000</td>\n",
       "    </tr>\n",
       "    <tr>\n",
       "      <th>SANOFI</th>\n",
       "      <td>1.0</td>\n",
       "      <td>0.0000</td>\n",
       "    </tr>\n",
       "  </tbody>\n",
       "</table>\n",
       "</div>"
      ],
      "text/plain": [
       "                  Weights in-sample MSR 2011  Weights in-sample GMV 2011\n",
       "AHOLD DELHAIZE                           0.0                      0.6058\n",
       "L'AIR LIQUIDE                            0.0                      0.0779\n",
       "BASF                                     0.0                      0.0000\n",
       "SAINT GOBAIN                             0.0                      0.0000\n",
       "ENDESA                                   0.0                      0.0000\n",
       "KERING                                   0.0                      0.0000\n",
       "L'OREAL                                  0.0                      0.3163\n",
       "LVMH                                     0.0                      0.0000\n",
       "MUNICH INSURANCE                         0.0                      0.0000\n",
       "SANOFI                                   1.0                      0.0000"
      ]
     },
     "execution_count": 10,
     "metadata": {},
     "output_type": "execute_result"
    }
   ],
   "source": [
    "msr_2011 = fun.msr(rf,ann_returns_2011,ann_cov_2011)  \n",
    "gmv_2011 = gmv_2011 = fun.gmv(ann_cov_2011)\n",
    "pd.DataFrame({'Weights in-sample MSR 2011': msr_2011.round(4),\n",
    "             'Weights in-sample GMV 2011': gmv_2011.round(4)}, ann_returns_2011.index)"
   ]
  },
  {
   "cell_type": "markdown",
   "metadata": {},
   "source": [
    "From the table we can see that we should have allocated 100% to SANOFI (for MSR portfolio), but we invested in absolutely different stocks.\n",
    "\n",
    "With GMV, we \"guessed\" right two assets out of three (AHOLD DELHAIZE and L'OREAL), but we were not very precise in \"guessing\" their weights (for example, we allocated 3.94% to L'OREAL, but should have allocated 31.63%) ."
   ]
  },
  {
   "cell_type": "markdown",
   "metadata": {},
   "source": [
    "Now, let us compute risk-return characteristics of the in-sample MSR and GMV portfolios (2011)."
   ]
  },
  {
   "cell_type": "code",
   "execution_count": 11,
   "metadata": {},
   "outputs": [
    {
     "data": {
      "text/html": [
       "<div>\n",
       "<style scoped>\n",
       "    .dataframe tbody tr th:only-of-type {\n",
       "        vertical-align: middle;\n",
       "    }\n",
       "\n",
       "    .dataframe tbody tr th {\n",
       "        vertical-align: top;\n",
       "    }\n",
       "\n",
       "    .dataframe thead th {\n",
       "        text-align: right;\n",
       "    }\n",
       "</style>\n",
       "<table border=\"1\" class=\"dataframe\">\n",
       "  <thead>\n",
       "    <tr style=\"text-align: right;\">\n",
       "      <th></th>\n",
       "      <th>In-sample MSR 2011</th>\n",
       "      <th>In-sample GMV 2011</th>\n",
       "    </tr>\n",
       "  </thead>\n",
       "  <tbody>\n",
       "    <tr>\n",
       "      <th>Portfolio return</th>\n",
       "      <td>0.186</td>\n",
       "      <td>0.0266</td>\n",
       "    </tr>\n",
       "    <tr>\n",
       "      <th>Portfolio volatility</th>\n",
       "      <td>0.260</td>\n",
       "      <td>0.1698</td>\n",
       "    </tr>\n",
       "    <tr>\n",
       "      <th>Sharpe ratio</th>\n",
       "      <td>0.660</td>\n",
       "      <td>0.0700</td>\n",
       "    </tr>\n",
       "  </tbody>\n",
       "</table>\n",
       "</div>"
      ],
      "text/plain": [
       "                      In-sample MSR 2011  In-sample GMV 2011\n",
       "Portfolio return                   0.186              0.0266\n",
       "Portfolio volatility               0.260              0.1698\n",
       "Sharpe ratio                       0.660              0.0700"
      ]
     },
     "execution_count": 11,
     "metadata": {},
     "output_type": "execute_result"
    }
   ],
   "source": [
    "# MSR portfolio\n",
    "ret_msr_2011 = fun.portfolio_return(msr_2011, ann_returns_2011)\n",
    "vol_msr_2011 = fun.portfolio_vol(msr_2011, ann_cov_2011)\n",
    "sharpe_msr_2011 = fun.sharpe(ret_msr_2011, vol_msr_2011, rf)\n",
    "\n",
    "# GMV portfolio\n",
    "ret_gmv_2011 = fun.portfolio_return(gmv_2011, ann_returns_2011)\n",
    "vol_gmv_2011 = fun.portfolio_vol(gmv_2011, ann_cov_2011)\n",
    "sharpe_gmv_2011 = fun.sharpe(ret_gmv_2011, vol_gmv_2011, rf)\n",
    "\n",
    "# Putting the computed characteristics into a table\n",
    "pd.concat([pd.DataFrame({'In-sample MSR 2011': ret_msr_2011.round(4),\n",
    "             'In-sample GMV 2011': ret_gmv_2011.round(4)}, index = ['Portfolio return']),\n",
    "           pd.DataFrame({'In-sample MSR 2011': vol_msr_2011.round(4),\n",
    "             'In-sample GMV 2011': vol_gmv_2011.round(4)}, index = ['Portfolio volatility']),\n",
    "          pd.DataFrame({'In-sample MSR 2011': sharpe_msr_2011.round(2),\n",
    "             'In-sample GMV 2011': sharpe_gmv_2011.round(2)}, index = ['Sharpe ratio'])\n",
    "          ], axis=0)"
   ]
  },
  {
   "cell_type": "markdown",
   "metadata": {},
   "source": [
    "The table above shows that in 2011, there was an opportunity to get good returns investing in MSR portfolio - up to 0.66% per unit of risk and a total return of 18.6%; but our real allocation gave us negative returns.\n",
    "\n",
    "Also we could have had a portfolio with the lowest volatility of 16.98%, but our GMV portfolio had a volatility of 20.40%."
   ]
  },
  {
   "cell_type": "markdown",
   "metadata": {},
   "source": [
    "1.3.2. For better visualization, let us plot all that we computed on a graph."
   ]
  },
  {
   "cell_type": "code",
   "execution_count": 12,
   "metadata": {},
   "outputs": [
    {
     "data": {
      "image/png": "[encoded data removed]",
      "text/plain": [
       "<Figure size 432x288 with 1 Axes>"
      ]
     },
     "metadata": {
      "needs_background": "light"
     },
     "output_type": "display_data"
    }
   ],
   "source": [
    "fun.plot_all(rf, ann_returns_2010, ann_cov_2010, ann_returns_2011, ann_cov_2011,\n",
    "             title='Markowitz 2010-2011',\n",
    "             name_1='In-sample EF (2010)',\n",
    "             name_2='In-sample MSR (2010)', \n",
    "             name_3='In-sample GMV (2010)', \n",
    "             name_4='In-sample EF (2011)', \n",
    "             name_5='In-sample MSR (2011)', \n",
    "             name_6='In-sample GMV (2011)', \n",
    "             name_7='Realised (out-of-sample) MSR (2011)', \n",
    "             name_8='Realised (out-of-sample) GMV (2011)', \n",
    "             ew=False, grid=False, crisis=False)"
   ]
  },
  {
   "cell_type": "markdown",
   "metadata": {},
   "source": [
    "On the graph, we can see two efficient frontiers: \n",
    "- a dotted line represents an efficient frontier computed from the historical data for 2010; a green triangle is the GMV portfolio and a pink star is the MSR portfolio; this is what we expected to get;\n",
    "- a purple triangle represents our actual (out-of-sample) GMV portfolio in 2011, and a blue star - our realized (out-of-sample) MSR portfolio in 2011; it can be seen that our out-of-sample portfolios are extremely far from the expected ones;\n",
    "- a solid line is an efficient frontier computed from the historical data for 2011 (a dark-green star - for GMV portfolio, a red star - for MSR portfolio) ; this is where we could have ended up in the best case scenario; but neither our expected, not realized portfolios are located on it.   "
   ]
  },
  {
   "cell_type": "markdown",
   "metadata": {},
   "source": [
    "## 2. Resampling"
   ]
  },
  {
   "cell_type": "markdown",
   "metadata": {},
   "source": [
    "Resampling, invented and patented by Richard Michaud and Robert Michaud, is one of the so-called robust methods of portfolio optimization.\n",
    "\n",
    "Steps that we will perform in this section are the same as those that we made for Markowitz, with the only one, but very crucial difference. In Resampling, to define weighs of our in-sample MSR and GMV portfolios, we will have to follow a more sophisticated algorithm. But let's start from the beginning."
   ]
  },
  {
   "cell_type": "markdown",
   "metadata": {},
   "source": [
    "### 2.1. \"In-sample\" portfolios (2010)"
   ]
  },
  {
   "cell_type": "markdown",
   "metadata": {},
   "source": [
    "2.1.1. As inputs, we will use the same data as previously, meaning that we will first take historical returns and covariance matrix of 2010, and a predefined risk-free rate. Nothing new here."
   ]
  },
  {
   "cell_type": "markdown",
   "metadata": {},
   "source": [
    "2.1.2. However, to compute weights of our targeted portfolios (MSR and GMV), we cannot use functions fun.msr() and gmv.msr(); instead, we will have use new functions: r_ef() and msr_resampled() or gmv_resampled().\n",
    "\n",
    "The first function r_ef() (r_ef is an abbreviation of \"resampled efficient frontier\") implements the Resampling procedure:\n",
    "- using our historic annualized returns and covariance, it simulates 500 sets of annualized returns and covariances; here we use a so-called Monte Carlo simulation;\n",
    "- then it takes 200 equally spaced return points and for each of the points, computes 500 sets of optimal portfolios (out of sets of previously simulated returns and covariances); optimal portfolios mean their constituents have weights that give the lowest possible portfolio volatility for a given return point;  \n",
    "- next, our function finds averaged portfolio weights for each return point, and for each set of averaged portfolio weights, it computes final portfolio return and volatility, using our historic annualized returns and covariance;\n",
    "- finally, for each of 200 optimal portfolios, we compute their return and volatility; by connecting these points on a graph (x-axis represents volatilities and y-axis - returns), we get a resampled efficient frontier.\n",
    "\n",
    "The second and third fucntions (msr_resampled() and gmv_resampled()) are needed to identify weights of our targeted portfolios (MSR and GMV) on the resampled efficient frontier, and their returns and volatilities."
   ]
  },
  {
   "cell_type": "code",
   "execution_count": 13,
   "metadata": {},
   "outputs": [],
   "source": [
    "# Function fun.r_ef() includes a Monte Carlo simulation, meaning that every time we run this code, we will get slightly \n",
    "# different results. To avoid this and to get the same reproducible result regardless of the number of times the simulation is run,\n",
    "# we need to use np.random.seed(0).\n",
    "\n",
    "# REF_sd stands for volatility, REF_mean for expected returns.\n",
    "\n",
    "# It takes quite some time to run this code, as it involves simulation.\n",
    "\n",
    "np.random.seed(0)\n",
    "REF_sd, REF_mean, REF_weights = fun.r_ef(ann_returns_2010, ann_cov_2010)"
   ]
  },
  {
   "cell_type": "code",
   "execution_count": 14,
   "metadata": {},
   "outputs": [],
   "source": [
    "msr_ref_ret, msr_ref_vol, msr_sharpe_ratio, msr_ref_weights = fun.msr_resampled(REF_mean, REF_sd, REF_weights, rf)\n",
    "gmv_ref_ret, gmv_ref_vol, gmv_sharpe_ratio, gmv_ref_weights = fun.gmv_resampled(REF_mean, REF_sd, REF_weights, rf)"
   ]
  },
  {
   "cell_type": "code",
   "execution_count": 15,
   "metadata": {},
   "outputs": [
    {
     "data": {
      "text/html": [
       "<div>\n",
       "<style scoped>\n",
       "    .dataframe tbody tr th:only-of-type {\n",
       "        vertical-align: middle;\n",
       "    }\n",
       "\n",
       "    .dataframe tbody tr th {\n",
       "        vertical-align: top;\n",
       "    }\n",
       "\n",
       "    .dataframe thead th {\n",
       "        text-align: right;\n",
       "    }\n",
       "</style>\n",
       "<table border=\"1\" class=\"dataframe\">\n",
       "  <thead>\n",
       "    <tr style=\"text-align: right;\">\n",
       "      <th></th>\n",
       "      <th>Weights resampled MSR 2010</th>\n",
       "      <th>Weights resampled GMV 2010</th>\n",
       "    </tr>\n",
       "  </thead>\n",
       "  <tbody>\n",
       "    <tr>\n",
       "      <th>AHOLD DELHAIZE</th>\n",
       "      <td>0.000</td>\n",
       "      <td>0.4251</td>\n",
       "    </tr>\n",
       "    <tr>\n",
       "      <th>L'AIR LIQUIDE</th>\n",
       "      <td>0.000</td>\n",
       "      <td>0.0225</td>\n",
       "    </tr>\n",
       "    <tr>\n",
       "      <th>BASF</th>\n",
       "      <td>0.000</td>\n",
       "      <td>0.0359</td>\n",
       "    </tr>\n",
       "    <tr>\n",
       "      <th>SAINT GOBAIN</th>\n",
       "      <td>0.000</td>\n",
       "      <td>0.0066</td>\n",
       "    </tr>\n",
       "    <tr>\n",
       "      <th>ENDESA</th>\n",
       "      <td>0.000</td>\n",
       "      <td>0.0644</td>\n",
       "    </tr>\n",
       "    <tr>\n",
       "      <th>KERING</th>\n",
       "      <td>0.014</td>\n",
       "      <td>0.0352</td>\n",
       "    </tr>\n",
       "    <tr>\n",
       "      <th>L'OREAL</th>\n",
       "      <td>0.000</td>\n",
       "      <td>0.0646</td>\n",
       "    </tr>\n",
       "    <tr>\n",
       "      <th>LVMH</th>\n",
       "      <td>0.986</td>\n",
       "      <td>0.0099</td>\n",
       "    </tr>\n",
       "    <tr>\n",
       "      <th>MUNICH INSURANCE</th>\n",
       "      <td>0.000</td>\n",
       "      <td>0.2456</td>\n",
       "    </tr>\n",
       "    <tr>\n",
       "      <th>SANOFI</th>\n",
       "      <td>0.000</td>\n",
       "      <td>0.0903</td>\n",
       "    </tr>\n",
       "  </tbody>\n",
       "</table>\n",
       "</div>"
      ],
      "text/plain": [
       "                  Weights resampled MSR 2010  Weights resampled GMV 2010\n",
       "AHOLD DELHAIZE                         0.000                      0.4251\n",
       "L'AIR LIQUIDE                          0.000                      0.0225\n",
       "BASF                                   0.000                      0.0359\n",
       "SAINT GOBAIN                           0.000                      0.0066\n",
       "ENDESA                                 0.000                      0.0644\n",
       "KERING                                 0.014                      0.0352\n",
       "L'OREAL                                0.000                      0.0646\n",
       "LVMH                                   0.986                      0.0099\n",
       "MUNICH INSURANCE                       0.000                      0.2456\n",
       "SANOFI                                 0.000                      0.0903"
      ]
     },
     "execution_count": 15,
     "metadata": {},
     "output_type": "execute_result"
    }
   ],
   "source": [
    "pd.DataFrame({'Weights resampled MSR 2010': msr_ref_weights.round(4),\n",
    "             'Weights resampled GMV 2010': gmv_ref_weights.round(4)}, ann_returns_2010.index)"
   ]
  },
  {
   "cell_type": "markdown",
   "metadata": {},
   "source": [
    "Let us compare the above weights with those computed by the Markowitz optimization mechanism.\n",
    "\n",
    "We can see that our resampled and Markowitz MSR portfolios are almost identical: they include same two constituents out of ten, only their weights differ. Interesting fact is that resampling gave us even more concentrated allocation (almost 99% in LVMH).\n",
    "\n",
    "Speaking of the resampled GMV portfolio, it is much more diversified than the Markowitz's one: it includes all ten constituents while the Markowitz GMV portfolio included only four assets. However, in resampled and Markowitz GMV portfolios same constituents dominate: AHOLD DELHAIZE with 42.51% and 53.95%, and MUNICH INSURANCE with 24.56% and 38.36%, respectively."
   ]
  },
  {
   "cell_type": "code",
   "execution_count": 16,
   "metadata": {},
   "outputs": [
    {
     "data": {
      "text/html": [
       "<div>\n",
       "<style scoped>\n",
       "    .dataframe tbody tr th:only-of-type {\n",
       "        vertical-align: middle;\n",
       "    }\n",
       "\n",
       "    .dataframe tbody tr th {\n",
       "        vertical-align: top;\n",
       "    }\n",
       "\n",
       "    .dataframe thead th {\n",
       "        text-align: right;\n",
       "    }\n",
       "</style>\n",
       "<table border=\"1\" class=\"dataframe\">\n",
       "  <thead>\n",
       "    <tr style=\"text-align: right;\">\n",
       "      <th></th>\n",
       "      <th>In-sample res MSR 2010</th>\n",
       "      <th>In-sample res GMV 2010</th>\n",
       "    </tr>\n",
       "  </thead>\n",
       "  <tbody>\n",
       "    <tr>\n",
       "      <th>Portfolio return</th>\n",
       "      <td>0.5683</td>\n",
       "      <td>0.0558</td>\n",
       "    </tr>\n",
       "    <tr>\n",
       "      <th>Portfolio volatility</th>\n",
       "      <td>0.2918</td>\n",
       "      <td>0.1475</td>\n",
       "    </tr>\n",
       "    <tr>\n",
       "      <th>Sharpe ratio</th>\n",
       "      <td>1.8964</td>\n",
       "      <td>0.2762</td>\n",
       "    </tr>\n",
       "  </tbody>\n",
       "</table>\n",
       "</div>"
      ],
      "text/plain": [
       "                      In-sample res MSR 2010  In-sample res GMV 2010\n",
       "Portfolio return                      0.5683                  0.0558\n",
       "Portfolio volatility                  0.2918                  0.1475\n",
       "Sharpe ratio                          1.8964                  0.2762"
      ]
     },
     "execution_count": 16,
     "metadata": {},
     "output_type": "execute_result"
    }
   ],
   "source": [
    "pd.concat([pd.DataFrame({'In-sample res MSR 2010': msr_ref_ret.round(4),\n",
    "             'In-sample res GMV 2010': gmv_ref_ret.round(4)}, index = ['Portfolio return']),\n",
    "           pd.DataFrame({'In-sample res MSR 2010': msr_ref_vol.round(4),\n",
    "             'In-sample res GMV 2010': gmv_ref_vol.round(4)}, index = ['Portfolio volatility']),\n",
    "          pd.DataFrame({'In-sample res MSR 2010': msr_sharpe_ratio.round(4),\n",
    "             'In-sample res GMV 2010': gmv_sharpe_ratio.round(4)}, index = ['Sharpe ratio'])\n",
    "          ], axis=0)"
   ]
  },
  {
   "cell_type": "markdown",
   "metadata": {},
   "source": [
    "From the table above, we can see that expected risk-return characterictics for the resampled and Markowitz portfolios are almost the same.  "
   ]
  },
  {
   "cell_type": "markdown",
   "metadata": {},
   "source": [
    "Before we proceed to compute realized portfolios in 2011, let us draw a resampled efficient frontier for 2010 and see where it is located compared to the Markowitz efficient frontier. Resampled EF should appear a bit lower than Markowitz EF."
   ]
  },
  {
   "cell_type": "code",
   "execution_count": 17,
   "metadata": {},
   "outputs": [
    {
     "data": {
      "image/png": "[encoded data removed]",
      "text/plain": [
       "<Figure size 432x288 with 1 Axes>"
      ]
     },
     "metadata": {
      "needs_background": "light"
     },
     "output_type": "display_data"
    }
   ],
   "source": [
    "fun.plot_ref_all(REF_mean, REF_sd, REF_weights, ann_returns_2010, ann_cov_2010, rf,\n",
    "                 title='Markowitz in-sample and resampled efficient frontier 2010',\n",
    "                 name_1='Markowitz in-sample EF', \n",
    "                 name_2='Markowitz in-sample MSR', \n",
    "                 name_3='Markowitz in-sample GMV',\n",
    "                 name_4='Resampled REF',\n",
    "                 name_5='Resampled MSR', \n",
    "                 name_6='Resampled GMV',\n",
    "                 name_7='_',\n",
    "                 name_8='_', \n",
    "                 show_msr_gmv=False, ew=False, grid=False, crisis=False)"
   ]
  },
  {
   "cell_type": "markdown",
   "metadata": {},
   "source": [
    "### 2.2. Out-of-sample portfolios (2011)"
   ]
  },
  {
   "cell_type": "markdown",
   "metadata": {},
   "source": [
    "2.2.1. To compute our realized (out-of-sample) portfolios in 2011, we will use weights that we abtained above using the resampling mechanism, and historical data for 2011 (this data was already once uploaded, so we do not repeat it here). "
   ]
  },
  {
   "cell_type": "markdown",
   "metadata": {},
   "source": [
    "2.2.2. Returns and volatilities of our out-of-sample portfolios are as follows:"
   ]
  },
  {
   "cell_type": "code",
   "execution_count": 18,
   "metadata": {},
   "outputs": [
    {
     "data": {
      "text/html": [
       "<div>\n",
       "<style scoped>\n",
       "    .dataframe tbody tr th:only-of-type {\n",
       "        vertical-align: middle;\n",
       "    }\n",
       "\n",
       "    .dataframe tbody tr th {\n",
       "        vertical-align: top;\n",
       "    }\n",
       "\n",
       "    .dataframe thead th {\n",
       "        text-align: right;\n",
       "    }\n",
       "</style>\n",
       "<table border=\"1\" class=\"dataframe\">\n",
       "  <thead>\n",
       "    <tr style=\"text-align: right;\">\n",
       "      <th></th>\n",
       "      <th>Out-of-sample res MSR 2011</th>\n",
       "      <th>Out-of-sample res GMV 2011</th>\n",
       "    </tr>\n",
       "  </thead>\n",
       "  <tbody>\n",
       "    <tr>\n",
       "      <th>Portfolio return</th>\n",
       "      <td>-0.1107</td>\n",
       "      <td>-0.0208</td>\n",
       "    </tr>\n",
       "    <tr>\n",
       "      <th>Portfolio volatility</th>\n",
       "      <td>0.3149</td>\n",
       "      <td>0.2017</td>\n",
       "    </tr>\n",
       "    <tr>\n",
       "      <th>Sharpe ratio</th>\n",
       "      <td>-0.3900</td>\n",
       "      <td>-0.1800</td>\n",
       "    </tr>\n",
       "  </tbody>\n",
       "</table>\n",
       "</div>"
      ],
      "text/plain": [
       "                      Out-of-sample res MSR 2011  Out-of-sample res GMV 2011\n",
       "Portfolio return                         -0.1107                     -0.0208\n",
       "Portfolio volatility                      0.3149                      0.2017\n",
       "Sharpe ratio                             -0.3900                     -0.1800"
      ]
     },
     "execution_count": 18,
     "metadata": {},
     "output_type": "execute_result"
    }
   ],
   "source": [
    "# MSR portfolio\n",
    "ret_res_out_msr_2011 = fun.portfolio_return(msr_ref_weights, ann_returns_2011)\n",
    "vol_res_out_msr_2011 = fun.portfolio_vol(msr_ref_weights, ann_cov_2011)\n",
    "sharpe_res_out_msr_2011 = fun.sharpe(ret_res_out_msr_2011, vol_res_out_msr_2011, rf)\n",
    "\n",
    "# GMV portfolio\n",
    "ret_res_out_gmv_2011 = fun.portfolio_return(gmv_ref_weights, ann_returns_2011)\n",
    "vol_res_out_gmv_2011 = fun.portfolio_vol(gmv_ref_weights, ann_cov_2011)\n",
    "sharpe_res_out_gmv_2011 = fun.sharpe(ret_res_out_gmv_2011, vol_res_out_gmv_2011, rf)\n",
    "\n",
    "# Putting the computed characteristics into a table\n",
    "pd.concat([pd.DataFrame({'Out-of-sample res MSR 2011': ret_res_out_msr_2011.round(4),\n",
    "             'Out-of-sample res GMV 2011': ret_res_out_gmv_2011.round(4)}, index = ['Portfolio return']),\n",
    "           pd.DataFrame({'Out-of-sample res MSR 2011': vol_out_msr_2011.round(4),\n",
    "             'Out-of-sample res GMV 2011': vol_res_out_gmv_2011.round(4)}, index = ['Portfolio volatility']),\n",
    "          pd.DataFrame({'Out-of-sample res MSR 2011': sharpe_res_out_msr_2011.round(2),\n",
    "             'Out-of-sample res GMV 2011': sharpe_res_out_gmv_2011.round(2)}, index = ['Sharpe ratio'])\n",
    "          ], axis=0)"
   ]
  },
  {
   "cell_type": "markdown",
   "metadata": {},
   "source": [
    "It can be seen that in terms of the risk-return characteristics, our resampled realized portfolios are almost the same as Markowitz out-of-sample portfolios, meaning that even using resampling, we were not able to make a better \"guess\" about where to allocate our assets to achieve our goal (the highest Sharpe ratio or the lowest volatility). "
   ]
  },
  {
   "cell_type": "markdown",
   "metadata": {},
   "source": [
    "## 3. Black-Litterman Model"
   ]
  },
  {
   "cell_type": "markdown",
   "metadata": {},
   "source": [
    "One more robust method of portfolio optimization is a Black-Litterman model created by Fischer Black and Robert Litterman.\n",
    "\n",
    "As it could be already understood from the explanations above, the process of portfolio optimization consists of the two main ingredients:\n",
    "- input parameters;\n",
    "- allocation mechanism.\n",
    "\n",
    "Markowitz used historical data as inputs and a mean-variance optimization algorithm. \n",
    "\n",
    "Michauds (resampling) also used historical parameters, but they modified the allocation algorithm by including resampling in it. \n",
    "\n",
    "By contrast, Black and Litterman whose model we will study in this section, focused on the input parameters: instead of using historical data, they proposed a way to incorporate views of an investor to get more realistic and reliable inputs; the rest is the same as in Markowitz: in fact, Black and Litterman used the same mean-variance optimization algorithm, just with new inputs. "
   ]
  },
  {
   "cell_type": "markdown",
   "metadata": {},
   "source": [
    "Before we move to computation of the parameters for the BL model, let us list all the steps that this method consists of (to get a general idea):\n",
    "\n",
    "1) first, we need a so-called prior portfolio (market portfolio), in literature, a cap-weighted portfolio is taken as a prior portfolio, this means we need to take all our stocks (that we want to include in our investment universe) and compute their weights according to their market capitalization;\n",
    "\n",
    "2) next, using a reverse engineering procedure, we extract from our prior portfolio implied returns for our stocks;\n",
    "\n",
    "3) then, we obtain investor's views on returns that our stocks will give and combine them with implied returns; this way we get so-caller posterior returns and covariances; in this step we use a special formula, so-called \"Black-Litterman Master's Formula\"\n",
    "\n",
    "4) as a final step, we simple input these posterior returns and covariances into the Markowitz optimizer and get wieghts of our MSR and GMV portfolios."
   ]
  },
  {
   "cell_type": "markdown",
   "metadata": {},
   "source": [
    "### 3.1. Input data and \"in-sample\" portfolios (2010)"
   ]
  },
  {
   "cell_type": "markdown",
   "metadata": {},
   "source": [
    "To compute input parameters for the Black-Litterman model which are called posterior expected returns and covariances, we need to make several steps. First, we need to obtain so-called implied returns. Implied means that they are implied by the market.  "
   ]
  },
  {
   "cell_type": "markdown",
   "metadata": {},
   "source": [
    "#### 3.1.1. Implied returns\n",
    "\n",
    "Implied returns are computed using the following formula:\n",
    "\n",
    "$$\\pi = \\delta\\Sigma w$$\n",
    "\n",
    "\\begin{array}{ll}\n",
    "w & \\mbox{a column vector ($N \\times 1$) of weights} \\\\\n",
    "\\Sigma & \\mbox{a covariance matrix ($N \\times N$) of the assets} \\\\\n",
    "\\delta & \\mbox{an investor's risk aversion factor}  \\\\\n",
    "\\end{array}\n",
    "\n",
    "As a result, we will get excess implied returns (returns without a risk-free rate).\n",
    "\n",
    "However, before we can use the formula, we need to get market capitalization of our assets and, based on it, calculate weights of the constituents in our prior (cap-weighted) market portfolio.\n",
    "\n",
    "Delta (investor's risk aversion factor) will be taken as 2.5 (average risk-aversion parameter)."
   ]
  },
  {
   "cell_type": "code",
   "execution_count": 19,
   "metadata": {},
   "outputs": [],
   "source": [
    "delta = 2.5"
   ]
  },
  {
   "cell_type": "code",
   "execution_count": 20,
   "metadata": {},
   "outputs": [
    {
     "data": {
      "text/html": [
       "<div>\n",
       "<style scoped>\n",
       "    .dataframe tbody tr th:only-of-type {\n",
       "        vertical-align: middle;\n",
       "    }\n",
       "\n",
       "    .dataframe tbody tr th {\n",
       "        vertical-align: top;\n",
       "    }\n",
       "\n",
       "    .dataframe thead th {\n",
       "        text-align: right;\n",
       "    }\n",
       "</style>\n",
       "<table border=\"1\" class=\"dataframe\">\n",
       "  <thead>\n",
       "    <tr style=\"text-align: right;\">\n",
       "      <th></th>\n",
       "      <th>Market Cap 31.12.2010</th>\n",
       "    </tr>\n",
       "    <tr>\n",
       "      <th>Instrument</th>\n",
       "      <th></th>\n",
       "    </tr>\n",
       "  </thead>\n",
       "  <tbody>\n",
       "    <tr>\n",
       "      <th>AHOLD DELHAIZE</th>\n",
       "      <td>11771.08</td>\n",
       "    </tr>\n",
       "    <tr>\n",
       "      <th>L'AIR LIQUIDE</th>\n",
       "      <td>26876.44</td>\n",
       "    </tr>\n",
       "    <tr>\n",
       "      <th>BASF</th>\n",
       "      <td>54833.18</td>\n",
       "    </tr>\n",
       "    <tr>\n",
       "      <th>SAINT GOBAIN</th>\n",
       "      <td>20436.08</td>\n",
       "    </tr>\n",
       "    <tr>\n",
       "      <th>ENDESA</th>\n",
       "      <td>20428.62</td>\n",
       "    </tr>\n",
       "    <tr>\n",
       "      <th>KERING</th>\n",
       "      <td>15062.95</td>\n",
       "    </tr>\n",
       "    <tr>\n",
       "      <th>L'OREAL</th>\n",
       "      <td>49783.02</td>\n",
       "    </tr>\n",
       "    <tr>\n",
       "      <th>LVMH</th>\n",
       "      <td>60328.05</td>\n",
       "    </tr>\n",
       "    <tr>\n",
       "      <th>MUNICH INSURANCE</th>\n",
       "      <td>21381.75</td>\n",
       "    </tr>\n",
       "    <tr>\n",
       "      <th>SANOFI</th>\n",
       "      <td>62729.92</td>\n",
       "    </tr>\n",
       "  </tbody>\n",
       "</table>\n",
       "</div>"
      ],
      "text/plain": [
       "                  Market Cap 31.12.2010\n",
       "Instrument                             \n",
       "AHOLD DELHAIZE                 11771.08\n",
       "L'AIR LIQUIDE                  26876.44\n",
       "BASF                           54833.18\n",
       "SAINT GOBAIN                   20436.08\n",
       "ENDESA                         20428.62\n",
       "KERING                         15062.95\n",
       "L'OREAL                        49783.02\n",
       "LVMH                           60328.05\n",
       "MUNICH INSURANCE               21381.75\n",
       "SANOFI                         62729.92"
      ]
     },
     "execution_count": 20,
     "metadata": {},
     "output_type": "execute_result"
    }
   ],
   "source": [
    "mktcaps_2010 = pd.read_excel('Data.xlsx', 'Market caps 2010', index_col=[0])\n",
    "\n",
    "# Market caps of our stocks are very large and they cannot be displayed properly here. Thus, we divided them by 1 000 000, \n",
    "# this means numbers below are in millions of euro. This will not affect our calculation of weights.\n",
    "(mktcaps_2010/1000000).round(2)"
   ]
  },
  {
   "cell_type": "code",
   "execution_count": 21,
   "metadata": {},
   "outputs": [
    {
     "data": {
      "text/html": [
       "<div>\n",
       "<style scoped>\n",
       "    .dataframe tbody tr th:only-of-type {\n",
       "        vertical-align: middle;\n",
       "    }\n",
       "\n",
       "    .dataframe tbody tr th {\n",
       "        vertical-align: top;\n",
       "    }\n",
       "\n",
       "    .dataframe thead th {\n",
       "        text-align: right;\n",
       "    }\n",
       "</style>\n",
       "<table border=\"1\" class=\"dataframe\">\n",
       "  <thead>\n",
       "    <tr style=\"text-align: right;\">\n",
       "      <th></th>\n",
       "      <th>Weights 31.12.2010</th>\n",
       "    </tr>\n",
       "    <tr>\n",
       "      <th>Instrument</th>\n",
       "      <th></th>\n",
       "    </tr>\n",
       "  </thead>\n",
       "  <tbody>\n",
       "    <tr>\n",
       "      <th>AHOLD DELHAIZE</th>\n",
       "      <td>0.034255</td>\n",
       "    </tr>\n",
       "    <tr>\n",
       "      <th>L'AIR LIQUIDE</th>\n",
       "      <td>0.078213</td>\n",
       "    </tr>\n",
       "    <tr>\n",
       "      <th>BASF</th>\n",
       "      <td>0.159570</td>\n",
       "    </tr>\n",
       "    <tr>\n",
       "      <th>SAINT GOBAIN</th>\n",
       "      <td>0.059471</td>\n",
       "    </tr>\n",
       "    <tr>\n",
       "      <th>ENDESA</th>\n",
       "      <td>0.059449</td>\n",
       "    </tr>\n",
       "    <tr>\n",
       "      <th>KERING</th>\n",
       "      <td>0.043835</td>\n",
       "    </tr>\n",
       "    <tr>\n",
       "      <th>L'OREAL</th>\n",
       "      <td>0.144873</td>\n",
       "    </tr>\n",
       "    <tr>\n",
       "      <th>LVMH</th>\n",
       "      <td>0.175561</td>\n",
       "    </tr>\n",
       "    <tr>\n",
       "      <th>MUNICH INSURANCE</th>\n",
       "      <td>0.062223</td>\n",
       "    </tr>\n",
       "    <tr>\n",
       "      <th>SANOFI</th>\n",
       "      <td>0.182550</td>\n",
       "    </tr>\n",
       "  </tbody>\n",
       "</table>\n",
       "</div>"
      ],
      "text/plain": [
       "                  Weights 31.12.2010\n",
       "Instrument                          \n",
       "AHOLD DELHAIZE              0.034255\n",
       "L'AIR LIQUIDE               0.078213\n",
       "BASF                        0.159570\n",
       "SAINT GOBAIN                0.059471\n",
       "ENDESA                      0.059449\n",
       "KERING                      0.043835\n",
       "L'OREAL                     0.144873\n",
       "LVMH                        0.175561\n",
       "MUNICH INSURANCE            0.062223\n",
       "SANOFI                      0.182550"
      ]
     },
     "execution_count": 21,
     "metadata": {},
     "output_type": "execute_result"
    }
   ],
   "source": [
    "mkt_weights_2010 = mktcaps_2010 / mktcaps_2010.sum()\n",
    "new_column_name_2010 = ['Weights 31.12.2010']\n",
    "mkt_weights_2010 = mkt_weights_2010.set_axis(new_column_name_2010, axis='columns')\n",
    "mkt_weights_2010"
   ]
  },
  {
   "cell_type": "code",
   "execution_count": 22,
   "metadata": {},
   "outputs": [
    {
     "data": {
      "text/plain": [
       "Weights 31.12.2010    1.0\n",
       "dtype: float64"
      ]
     },
     "execution_count": 22,
     "metadata": {},
     "output_type": "execute_result"
    }
   ],
   "source": [
    "mkt_weights_2010.sum()"
   ]
  },
  {
   "cell_type": "code",
   "execution_count": 23,
   "metadata": {},
   "outputs": [
    {
     "data": {
      "text/plain": [
       "AHOLD DELHAIZE      0.0396\n",
       "L'AIR LIQUIDE       0.1158\n",
       "BASF                0.1235\n",
       "SAINT GOBAIN        0.1600\n",
       "ENDESA              0.0866\n",
       "KERING              0.1134\n",
       "L'OREAL             0.1030\n",
       "LVMH                0.1405\n",
       "MUNICH INSURANCE    0.0688\n",
       "SANOFI              0.0957\n",
       "dtype: float64"
      ]
     },
     "execution_count": 23,
     "metadata": {},
     "output_type": "execute_result"
    }
   ],
   "source": [
    "# These are our implied returns (excess returns without the risk-free rate)\n",
    "\n",
    "pi_2010 = fun.implied_excess_returns(delta, ann_cov_2010, mkt_weights_2010)\n",
    "pi_2010.round(4)"
   ]
  },
  {
   "cell_type": "code",
   "execution_count": 24,
   "metadata": {},
   "outputs": [
    {
     "data": {
      "text/plain": [
       "AHOLD DELHAIZE      0.0546\n",
       "L'AIR LIQUIDE       0.1308\n",
       "BASF                0.1385\n",
       "SAINT GOBAIN        0.1750\n",
       "ENDESA              0.1016\n",
       "KERING              0.1284\n",
       "L'OREAL             0.1180\n",
       "LVMH                0.1555\n",
       "MUNICH INSURANCE    0.0838\n",
       "SANOFI              0.1107\n",
       "dtype: float64"
      ]
     },
     "execution_count": 24,
     "metadata": {},
     "output_type": "execute_result"
    }
   ],
   "source": [
    "# These are implied returns including the risk-free rate\n",
    "\n",
    "full_ir_2010 = rf + pi_2010\n",
    "full_ir_2010.round(4)"
   ]
  },
  {
   "cell_type": "markdown",
   "metadata": {},
   "source": [
    "#### 3.1.2. Investor's views\n",
    "\n",
    "Besides implied returns, we can include in our model investor's own estimations on how the market will develop. This is the main specificity that makes the Black-Litterman stand out. Interestingly, views can be complete (generated for all the constituents) or partial, as well as absolute (\"Return of this stock will be 3%) or relative ('Return of the stock A will be 3% higher that that of the stock B\"). \n",
    "\n",
    "Let's assume our investor thinks that BASF, SAINT GOBAIN, ENDESA, LVMH and MUNICH INSURANCE will give negative returns of -3%, -5%, -4%, -3% and -4%, respectively. These are partial absolute views.  "
   ]
  },
  {
   "cell_type": "code",
   "execution_count": 25,
   "metadata": {},
   "outputs": [
    {
     "data": {
      "text/plain": [
       "BASF               -0.015\n",
       "SAINT GOBAIN       -0.035\n",
       "ENDESA             -0.025\n",
       "LVMH               -0.015\n",
       "MUNICH INSURANCE   -0.025\n",
       "dtype: float64"
      ]
     },
     "execution_count": 25,
     "metadata": {},
     "output_type": "execute_result"
    }
   ],
   "source": [
    "# Here we indicate EXCESS investor's views, meaning that we need to substract the risk-free rate (which is 1.5%)\n",
    "# from the returns shown above\n",
    "\n",
    "constituents_with_views = ['BASF', 'SAINT GOBAIN', 'ENDESA', 'LVMH', 'MUNICH INSURANCE']\n",
    "views_excess_2010 = pd.Series([-0.015, -0.035, -0.025, -0.015, -0.025], index=constituents_with_views)\n",
    "views_excess_2010"
   ]
  },
  {
   "cell_type": "markdown",
   "metadata": {},
   "source": [
    "Using our views, we need to create a so-called projection matrix that will link each view to its corresponding stock. It's a K x N matrix, where K is a number views (5 in this case) and N is a total number of constituents that we have, not only those with views (in our case we have 10 stocks in total). \n",
    "\n",
    "If a constituent has a view, then in a cell that is located in intersection between this stock (column) and a corresponding view (row), we will put 1, all the other cells will contain 0. Our projection matrix will look like this:"
   ]
  },
  {
   "cell_type": "code",
   "execution_count": 26,
   "metadata": {},
   "outputs": [
    {
     "data": {
      "text/html": [
       "<div>\n",
       "<style scoped>\n",
       "    .dataframe tbody tr th:only-of-type {\n",
       "        vertical-align: middle;\n",
       "    }\n",
       "\n",
       "    .dataframe tbody tr th {\n",
       "        vertical-align: top;\n",
       "    }\n",
       "\n",
       "    .dataframe thead th {\n",
       "        text-align: right;\n",
       "    }\n",
       "</style>\n",
       "<table border=\"1\" class=\"dataframe\">\n",
       "  <thead>\n",
       "    <tr style=\"text-align: right;\">\n",
       "      <th></th>\n",
       "      <th>AHOLD DELHAIZE</th>\n",
       "      <th>L'AIR LIQUIDE</th>\n",
       "      <th>BASF</th>\n",
       "      <th>SAINT GOBAIN</th>\n",
       "      <th>ENDESA</th>\n",
       "      <th>KERING</th>\n",
       "      <th>L'OREAL</th>\n",
       "      <th>LVMH</th>\n",
       "      <th>MUNICH INSURANCE</th>\n",
       "      <th>SANOFI</th>\n",
       "    </tr>\n",
       "  </thead>\n",
       "  <tbody>\n",
       "    <tr>\n",
       "      <th>0</th>\n",
       "      <td>0.0</td>\n",
       "      <td>0.0</td>\n",
       "      <td>1.0</td>\n",
       "      <td>0.0</td>\n",
       "      <td>0.0</td>\n",
       "      <td>0.0</td>\n",
       "      <td>0.0</td>\n",
       "      <td>0.0</td>\n",
       "      <td>0.0</td>\n",
       "      <td>0.0</td>\n",
       "    </tr>\n",
       "    <tr>\n",
       "      <th>1</th>\n",
       "      <td>0.0</td>\n",
       "      <td>0.0</td>\n",
       "      <td>0.0</td>\n",
       "      <td>1.0</td>\n",
       "      <td>0.0</td>\n",
       "      <td>0.0</td>\n",
       "      <td>0.0</td>\n",
       "      <td>0.0</td>\n",
       "      <td>0.0</td>\n",
       "      <td>0.0</td>\n",
       "    </tr>\n",
       "    <tr>\n",
       "      <th>2</th>\n",
       "      <td>0.0</td>\n",
       "      <td>0.0</td>\n",
       "      <td>0.0</td>\n",
       "      <td>0.0</td>\n",
       "      <td>1.0</td>\n",
       "      <td>0.0</td>\n",
       "      <td>0.0</td>\n",
       "      <td>0.0</td>\n",
       "      <td>0.0</td>\n",
       "      <td>0.0</td>\n",
       "    </tr>\n",
       "    <tr>\n",
       "      <th>3</th>\n",
       "      <td>0.0</td>\n",
       "      <td>0.0</td>\n",
       "      <td>0.0</td>\n",
       "      <td>0.0</td>\n",
       "      <td>0.0</td>\n",
       "      <td>0.0</td>\n",
       "      <td>0.0</td>\n",
       "      <td>1.0</td>\n",
       "      <td>0.0</td>\n",
       "      <td>0.0</td>\n",
       "    </tr>\n",
       "    <tr>\n",
       "      <th>4</th>\n",
       "      <td>0.0</td>\n",
       "      <td>0.0</td>\n",
       "      <td>0.0</td>\n",
       "      <td>0.0</td>\n",
       "      <td>0.0</td>\n",
       "      <td>0.0</td>\n",
       "      <td>0.0</td>\n",
       "      <td>0.0</td>\n",
       "      <td>1.0</td>\n",
       "      <td>0.0</td>\n",
       "    </tr>\n",
       "  </tbody>\n",
       "</table>\n",
       "</div>"
      ],
      "text/plain": [
       "   AHOLD DELHAIZE  L'AIR LIQUIDE  BASF  SAINT GOBAIN  ENDESA  KERING  L'OREAL  \\\n",
       "0             0.0            0.0   1.0           0.0     0.0     0.0      0.0   \n",
       "1             0.0            0.0   0.0           1.0     0.0     0.0      0.0   \n",
       "2             0.0            0.0   0.0           0.0     1.0     0.0      0.0   \n",
       "3             0.0            0.0   0.0           0.0     0.0     0.0      0.0   \n",
       "4             0.0            0.0   0.0           0.0     0.0     0.0      0.0   \n",
       "\n",
       "   LVMH  MUNICH INSURANCE  SANOFI  \n",
       "0   0.0               0.0     0.0  \n",
       "1   0.0               0.0     0.0  \n",
       "2   0.0               0.0     0.0  \n",
       "3   1.0               0.0     0.0  \n",
       "4   0.0               1.0     0.0  "
      ]
     },
     "execution_count": 26,
     "metadata": {},
     "output_type": "execute_result"
    }
   ],
   "source": [
    "p = pd.DataFrame(np.zeros((5, 10)), columns=ann_returns_2010.index)\n",
    "p.iloc[0]['BASF'] = 1\n",
    "p.iloc[1]['SAINT GOBAIN'] = 1\n",
    "p.iloc[2]['ENDESA'] = 1\n",
    "p.iloc[3]['LVMH'] = 1\n",
    "p.iloc[4]['MUNICH INSURANCE'] = 1\n",
    "p"
   ]
  },
  {
   "cell_type": "markdown",
   "metadata": {},
   "source": [
    "One more element that we need to compute and which is related to views, is a covariance matrix for views (covariance of the estimated view mean returns about the actual view mean returns). Formula for it is as follows:\n",
    " \n",
    "$$\\Omega = diag(P (\\tau \\Sigma) P^T) $$\n",
    "\n",
    "However, we will not compute it here, as it will be automatically included in a fuction for calculation of final returns and covariances."
   ]
  },
  {
   "cell_type": "markdown",
   "metadata": {},
   "source": [
    "#### 3.1.3. Posterior returns (implied returns and views combined)\n",
    "\n",
    "Now we are in a position to mix implied returns and views to get final expected returns and covariances.\n",
    "The so-called Black-Litterman \"master's formula\" will help us to do it (a version modified by J. Walters): \n",
    "\n",
    "\\begin{equation}\n",
    "\\label{eq:blMu}\n",
    "\\mu^{BL} = \\pi + \\tau \\Sigma P^T[(P \\tau \\Sigma P^T) + \\Omega]^{-1}[Q - P \\pi]\n",
    "\\end{equation}\n",
    "\n",
    "\\begin{equation}\n",
    "\\label{eq:blSigma}\n",
    "\\Sigma^{BL} = \\Sigma + \\tau \\Sigma - \\tau\\Sigma P^T(P \\tau \\Sigma P^T + \\Omega)^{-1} P \\tau \\Sigma\n",
    "\\end{equation}\n",
    "\n",
    "where:\n",
    "\n",
    "\\begin{array}{ll}\n",
    "\\Sigma & \\mbox{a covariance matrix ($N \\times N$) of the assets} \\\\\n",
    "\\delta & \\mbox{an investor's risk aversion factor}  \\\\\n",
    "Q & \\mbox{a $K \\times 1$ active (excess) views matrix} \\\\\n",
    "P & \\mbox{a $K \\times N$ projection matrix, linking each view to a stock} \\\\\n",
    "\\Omega & \\mbox{a covariance of the estimated view mean returns about the actual view mean returns} \\\\\n",
    "\\tau & \\mbox{a scalar indicating the uncertainty of the prior}\n",
    "\\end{array}\n",
    "\n",
    "The formulas look quite intimidating but actually we already have almost all the necessary ingredients, we just need to paste them into the formulas.\n",
    "\n",
    "The only additional parameter that remained untouched so far, is a tuning parameter tau. To calculate it we need to divide 1 by the number of samples that we used to compute our historic returns. For this notebook, annualized returns were computed from daily stock prices, thus, our divisor equals to 255 (number of banking days per year). "
   ]
  },
  {
   "cell_type": "code",
   "execution_count": 27,
   "metadata": {},
   "outputs": [
    {
     "data": {
      "text/plain": [
       "0.00392156862745098"
      ]
     },
     "execution_count": 27,
     "metadata": {},
     "output_type": "execute_result"
    }
   ],
   "source": [
    "tau = 1/255\n",
    "tau"
   ]
  },
  {
   "cell_type": "markdown",
   "metadata": {},
   "source": [
    "Now, let us use a function fun.black_litterman() and compute black-litterman posterior (final) returns and covariances:"
   ]
  },
  {
   "cell_type": "code",
   "execution_count": 28,
   "metadata": {},
   "outputs": [],
   "source": [
    "# Attention, BL masters formula (and the function fun.black_litterman()) computes excess returns, \n",
    "# thus, we will have to add the risk-free rate to get full expected returns that we will feed into our optimizer\n",
    "\n",
    "excess_mu_bl_2010, cov_bl_2010 = fun.black_litterman(ann_cov_2010, mkt_weights_2010, views_excess_2010, p, delta=delta, tau=tau)"
   ]
  },
  {
   "cell_type": "code",
   "execution_count": 29,
   "metadata": {},
   "outputs": [
    {
     "data": {
      "text/plain": [
       "AHOLD DELHAIZE      0.005746\n",
       "L'AIR LIQUIDE       0.016153\n",
       "BASF                0.014021\n",
       "SAINT GOBAIN        0.009761\n",
       "ENDESA             -0.000924\n",
       "KERING              0.014765\n",
       "L'OREAL             0.019400\n",
       "LVMH                0.018399\n",
       "MUNICH INSURANCE   -0.001232\n",
       "SANOFI              0.019291\n",
       "dtype: float64"
      ]
     },
     "execution_count": 29,
     "metadata": {},
     "output_type": "execute_result"
    }
   ],
   "source": [
    "excess_mu_bl_2010"
   ]
  },
  {
   "cell_type": "code",
   "execution_count": 30,
   "metadata": {},
   "outputs": [
    {
     "data": {
      "text/plain": [
       "AHOLD DELHAIZE      0.020746\n",
       "L'AIR LIQUIDE       0.031153\n",
       "BASF                0.029021\n",
       "SAINT GOBAIN        0.024761\n",
       "ENDESA              0.014076\n",
       "KERING              0.029765\n",
       "L'OREAL             0.034400\n",
       "LVMH                0.033399\n",
       "MUNICH INSURANCE    0.013768\n",
       "SANOFI              0.034291\n",
       "dtype: float64"
      ]
     },
     "execution_count": 30,
     "metadata": {},
     "output_type": "execute_result"
    }
   ],
   "source": [
    "mu_bl_2010 = excess_mu_bl_2010 + rf\n",
    "mu_bl_2010"
   ]
  },
  {
   "cell_type": "code",
   "execution_count": 31,
   "metadata": {},
   "outputs": [
    {
     "data": {
      "text/html": [
       "<div>\n",
       "<style scoped>\n",
       "    .dataframe tbody tr th:only-of-type {\n",
       "        vertical-align: middle;\n",
       "    }\n",
       "\n",
       "    .dataframe tbody tr th {\n",
       "        vertical-align: top;\n",
       "    }\n",
       "\n",
       "    .dataframe thead th {\n",
       "        text-align: right;\n",
       "    }\n",
       "</style>\n",
       "<table border=\"1\" class=\"dataframe\">\n",
       "  <thead>\n",
       "    <tr style=\"text-align: right;\">\n",
       "      <th></th>\n",
       "      <th>AHOLD DELHAIZE</th>\n",
       "      <th>L'AIR LIQUIDE</th>\n",
       "      <th>BASF</th>\n",
       "      <th>SAINT GOBAIN</th>\n",
       "      <th>ENDESA</th>\n",
       "      <th>KERING</th>\n",
       "      <th>L'OREAL</th>\n",
       "      <th>LVMH</th>\n",
       "      <th>MUNICH INSURANCE</th>\n",
       "      <th>SANOFI</th>\n",
       "    </tr>\n",
       "  </thead>\n",
       "  <tbody>\n",
       "    <tr>\n",
       "      <th>AHOLD DELHAIZE</th>\n",
       "      <td>0.027843</td>\n",
       "      <td>0.016788</td>\n",
       "      <td>0.012936</td>\n",
       "      <td>0.023548</td>\n",
       "      <td>0.016934</td>\n",
       "      <td>0.017935</td>\n",
       "      <td>0.012693</td>\n",
       "      <td>0.019035</td>\n",
       "      <td>0.009407</td>\n",
       "      <td>0.014163</td>\n",
       "    </tr>\n",
       "    <tr>\n",
       "      <th>L'AIR LIQUIDE</th>\n",
       "      <td>0.016788</td>\n",
       "      <td>0.061685</td>\n",
       "      <td>0.051800</td>\n",
       "      <td>0.069056</td>\n",
       "      <td>0.035806</td>\n",
       "      <td>0.044827</td>\n",
       "      <td>0.040769</td>\n",
       "      <td>0.056146</td>\n",
       "      <td>0.027349</td>\n",
       "      <td>0.038596</td>\n",
       "    </tr>\n",
       "    <tr>\n",
       "      <th>BASF</th>\n",
       "      <td>0.012936</td>\n",
       "      <td>0.051800</td>\n",
       "      <td>0.072594</td>\n",
       "      <td>0.068390</td>\n",
       "      <td>0.031470</td>\n",
       "      <td>0.049027</td>\n",
       "      <td>0.041801</td>\n",
       "      <td>0.058941</td>\n",
       "      <td>0.030599</td>\n",
       "      <td>0.038300</td>\n",
       "    </tr>\n",
       "    <tr>\n",
       "      <th>SAINT GOBAIN</th>\n",
       "      <td>0.023548</td>\n",
       "      <td>0.069056</td>\n",
       "      <td>0.068390</td>\n",
       "      <td>0.129037</td>\n",
       "      <td>0.054143</td>\n",
       "      <td>0.064974</td>\n",
       "      <td>0.054547</td>\n",
       "      <td>0.078760</td>\n",
       "      <td>0.037620</td>\n",
       "      <td>0.049902</td>\n",
       "    </tr>\n",
       "    <tr>\n",
       "      <th>ENDESA</th>\n",
       "      <td>0.016934</td>\n",
       "      <td>0.035806</td>\n",
       "      <td>0.031470</td>\n",
       "      <td>0.054143</td>\n",
       "      <td>0.063629</td>\n",
       "      <td>0.037163</td>\n",
       "      <td>0.027953</td>\n",
       "      <td>0.040079</td>\n",
       "      <td>0.023018</td>\n",
       "      <td>0.028058</td>\n",
       "    </tr>\n",
       "    <tr>\n",
       "      <th>KERING</th>\n",
       "      <td>0.017935</td>\n",
       "      <td>0.044827</td>\n",
       "      <td>0.049027</td>\n",
       "      <td>0.064974</td>\n",
       "      <td>0.037163</td>\n",
       "      <td>0.075677</td>\n",
       "      <td>0.038900</td>\n",
       "      <td>0.058027</td>\n",
       "      <td>0.027715</td>\n",
       "      <td>0.035769</td>\n",
       "    </tr>\n",
       "    <tr>\n",
       "      <th>L'OREAL</th>\n",
       "      <td>0.012693</td>\n",
       "      <td>0.040769</td>\n",
       "      <td>0.041801</td>\n",
       "      <td>0.054547</td>\n",
       "      <td>0.027953</td>\n",
       "      <td>0.038900</td>\n",
       "      <td>0.055014</td>\n",
       "      <td>0.050861</td>\n",
       "      <td>0.024503</td>\n",
       "      <td>0.032357</td>\n",
       "    </tr>\n",
       "    <tr>\n",
       "      <th>LVMH</th>\n",
       "      <td>0.019035</td>\n",
       "      <td>0.056146</td>\n",
       "      <td>0.058941</td>\n",
       "      <td>0.078760</td>\n",
       "      <td>0.040079</td>\n",
       "      <td>0.058027</td>\n",
       "      <td>0.050861</td>\n",
       "      <td>0.086030</td>\n",
       "      <td>0.031509</td>\n",
       "      <td>0.042524</td>\n",
       "    </tr>\n",
       "    <tr>\n",
       "      <th>MUNICH INSURANCE</th>\n",
       "      <td>0.009407</td>\n",
       "      <td>0.027349</td>\n",
       "      <td>0.030599</td>\n",
       "      <td>0.037620</td>\n",
       "      <td>0.023018</td>\n",
       "      <td>0.027715</td>\n",
       "      <td>0.024503</td>\n",
       "      <td>0.031509</td>\n",
       "      <td>0.033167</td>\n",
       "      <td>0.023172</td>\n",
       "    </tr>\n",
       "    <tr>\n",
       "      <th>SANOFI</th>\n",
       "      <td>0.014163</td>\n",
       "      <td>0.038596</td>\n",
       "      <td>0.038300</td>\n",
       "      <td>0.049902</td>\n",
       "      <td>0.028058</td>\n",
       "      <td>0.035769</td>\n",
       "      <td>0.032357</td>\n",
       "      <td>0.042524</td>\n",
       "      <td>0.023172</td>\n",
       "      <td>0.048812</td>\n",
       "    </tr>\n",
       "  </tbody>\n",
       "</table>\n",
       "</div>"
      ],
      "text/plain": [
       "                  AHOLD DELHAIZE  L'AIR LIQUIDE      BASF  SAINT GOBAIN  \\\n",
       "AHOLD DELHAIZE          0.027843       0.016788  0.012936      0.023548   \n",
       "L'AIR LIQUIDE           0.016788       0.061685  0.051800      0.069056   \n",
       "BASF                    0.012936       0.051800  0.072594      0.068390   \n",
       "SAINT GOBAIN            0.023548       0.069056  0.068390      0.129037   \n",
       "ENDESA                  0.016934       0.035806  0.031470      0.054143   \n",
       "KERING                  0.017935       0.044827  0.049027      0.064974   \n",
       "L'OREAL                 0.012693       0.040769  0.041801      0.054547   \n",
       "LVMH                    0.019035       0.056146  0.058941      0.078760   \n",
       "MUNICH INSURANCE        0.009407       0.027349  0.030599      0.037620   \n",
       "SANOFI                  0.014163       0.038596  0.038300      0.049902   \n",
       "\n",
       "                    ENDESA    KERING   L'OREAL      LVMH  MUNICH INSURANCE  \\\n",
       "AHOLD DELHAIZE    0.016934  0.017935  0.012693  0.019035          0.009407   \n",
       "L'AIR LIQUIDE     0.035806  0.044827  0.040769  0.056146          0.027349   \n",
       "BASF              0.031470  0.049027  0.041801  0.058941          0.030599   \n",
       "SAINT GOBAIN      0.054143  0.064974  0.054547  0.078760          0.037620   \n",
       "ENDESA            0.063629  0.037163  0.027953  0.040079          0.023018   \n",
       "KERING            0.037163  0.075677  0.038900  0.058027          0.027715   \n",
       "L'OREAL           0.027953  0.038900  0.055014  0.050861          0.024503   \n",
       "LVMH              0.040079  0.058027  0.050861  0.086030          0.031509   \n",
       "MUNICH INSURANCE  0.023018  0.027715  0.024503  0.031509          0.033167   \n",
       "SANOFI            0.028058  0.035769  0.032357  0.042524          0.023172   \n",
       "\n",
       "                    SANOFI  \n",
       "AHOLD DELHAIZE    0.014163  \n",
       "L'AIR LIQUIDE     0.038596  \n",
       "BASF              0.038300  \n",
       "SAINT GOBAIN      0.049902  \n",
       "ENDESA            0.028058  \n",
       "KERING            0.035769  \n",
       "L'OREAL           0.032357  \n",
       "LVMH              0.042524  \n",
       "MUNICH INSURANCE  0.023172  \n",
       "SANOFI            0.048812  "
      ]
     },
     "execution_count": 31,
     "metadata": {},
     "output_type": "execute_result"
    }
   ],
   "source": [
    "cov_bl_2010"
   ]
  },
  {
   "cell_type": "markdown",
   "metadata": {},
   "source": [
    "#### 3.1.4. Weights of MSR and GMV portfolios based on BL posterior returns and covariances \n",
    "\n",
    "To do this, we will use the same functions that we used before in Markowitz optimisation: fun.msr() and fun.gmv()."
   ]
  },
  {
   "cell_type": "code",
   "execution_count": 32,
   "metadata": {},
   "outputs": [
    {
     "data": {
      "text/html": [
       "<div>\n",
       "<style scoped>\n",
       "    .dataframe tbody tr th:only-of-type {\n",
       "        vertical-align: middle;\n",
       "    }\n",
       "\n",
       "    .dataframe tbody tr th {\n",
       "        vertical-align: top;\n",
       "    }\n",
       "\n",
       "    .dataframe thead th {\n",
       "        text-align: right;\n",
       "    }\n",
       "</style>\n",
       "<table border=\"1\" class=\"dataframe\">\n",
       "  <thead>\n",
       "    <tr style=\"text-align: right;\">\n",
       "      <th></th>\n",
       "      <th>Weights BL MSR 2010</th>\n",
       "      <th>Weights BL GMV 2010</th>\n",
       "    </tr>\n",
       "  </thead>\n",
       "  <tbody>\n",
       "    <tr>\n",
       "      <th>AHOLD DELHAIZE</th>\n",
       "      <td>0.0000</td>\n",
       "      <td>0.5387</td>\n",
       "    </tr>\n",
       "    <tr>\n",
       "      <th>L'AIR LIQUIDE</th>\n",
       "      <td>0.0000</td>\n",
       "      <td>0.0000</td>\n",
       "    </tr>\n",
       "    <tr>\n",
       "      <th>BASF</th>\n",
       "      <td>0.0000</td>\n",
       "      <td>0.0000</td>\n",
       "    </tr>\n",
       "    <tr>\n",
       "      <th>SAINT GOBAIN</th>\n",
       "      <td>0.0000</td>\n",
       "      <td>0.0000</td>\n",
       "    </tr>\n",
       "    <tr>\n",
       "      <th>ENDESA</th>\n",
       "      <td>0.0000</td>\n",
       "      <td>0.0000</td>\n",
       "    </tr>\n",
       "    <tr>\n",
       "      <th>KERING</th>\n",
       "      <td>0.0000</td>\n",
       "      <td>0.0000</td>\n",
       "    </tr>\n",
       "    <tr>\n",
       "      <th>L'OREAL</th>\n",
       "      <td>0.4267</td>\n",
       "      <td>0.0397</td>\n",
       "    </tr>\n",
       "    <tr>\n",
       "      <th>LVMH</th>\n",
       "      <td>0.0000</td>\n",
       "      <td>0.0000</td>\n",
       "    </tr>\n",
       "    <tr>\n",
       "      <th>MUNICH INSURANCE</th>\n",
       "      <td>0.0000</td>\n",
       "      <td>0.3840</td>\n",
       "    </tr>\n",
       "    <tr>\n",
       "      <th>SANOFI</th>\n",
       "      <td>0.5733</td>\n",
       "      <td>0.0376</td>\n",
       "    </tr>\n",
       "  </tbody>\n",
       "</table>\n",
       "</div>"
      ],
      "text/plain": [
       "                  Weights BL MSR 2010  Weights BL GMV 2010\n",
       "AHOLD DELHAIZE                 0.0000               0.5387\n",
       "L'AIR LIQUIDE                  0.0000               0.0000\n",
       "BASF                           0.0000               0.0000\n",
       "SAINT GOBAIN                   0.0000               0.0000\n",
       "ENDESA                         0.0000               0.0000\n",
       "KERING                         0.0000               0.0000\n",
       "L'OREAL                        0.4267               0.0397\n",
       "LVMH                           0.0000               0.0000\n",
       "MUNICH INSURANCE               0.0000               0.3840\n",
       "SANOFI                         0.5733               0.0376"
      ]
     },
     "execution_count": 32,
     "metadata": {},
     "output_type": "execute_result"
    }
   ],
   "source": [
    "msr_2010_bl = fun.msr(rf, mu_bl_2010, cov_bl_2010)  \n",
    "gmv_2010_bl = fun.gmv(cov_bl_2010)\n",
    "pd.DataFrame({'Weights BL MSR 2010': msr_2010_bl.round(4),\n",
    "             'Weights BL GMV 2010': gmv_2010_bl.round(4)}, ann_returns_2010.index)"
   ]
  },
  {
   "cell_type": "markdown",
   "metadata": {},
   "source": [
    "Similarly to the Markowitz optimization, BL model resulted in a very concentrated, not diversified MSR portfolio with only two constituents: 42.62% in L'OREAL and 57.33% in SANOFI, although these constituents differ from those in Markowitz.\n",
    "\n",
    "As for the GMV portfolio, BL and Markowitz portfolios contain exactly the same stocks with just tiny differencies in weights."
   ]
  },
  {
   "cell_type": "code",
   "execution_count": 33,
   "metadata": {},
   "outputs": [
    {
     "data": {
      "text/html": [
       "<div>\n",
       "<style scoped>\n",
       "    .dataframe tbody tr th:only-of-type {\n",
       "        vertical-align: middle;\n",
       "    }\n",
       "\n",
       "    .dataframe tbody tr th {\n",
       "        vertical-align: top;\n",
       "    }\n",
       "\n",
       "    .dataframe thead th {\n",
       "        text-align: right;\n",
       "    }\n",
       "</style>\n",
       "<table border=\"1\" class=\"dataframe\">\n",
       "  <thead>\n",
       "    <tr style=\"text-align: right;\">\n",
       "      <th></th>\n",
       "      <th>In-sample BL MSR 2010</th>\n",
       "      <th>In-sample BL GMV 2010</th>\n",
       "    </tr>\n",
       "  </thead>\n",
       "  <tbody>\n",
       "    <tr>\n",
       "      <th>Portfolio return</th>\n",
       "      <td>0.0343</td>\n",
       "      <td>0.2047</td>\n",
       "    </tr>\n",
       "    <tr>\n",
       "      <th>Portfolio volatility</th>\n",
       "      <td>0.0191</td>\n",
       "      <td>0.1402</td>\n",
       "    </tr>\n",
       "    <tr>\n",
       "      <th>Sharpe ratio</th>\n",
       "      <td>0.0900</td>\n",
       "      <td>0.2200</td>\n",
       "    </tr>\n",
       "  </tbody>\n",
       "</table>\n",
       "</div>"
      ],
      "text/plain": [
       "                      In-sample BL MSR 2010  In-sample BL GMV 2010\n",
       "Portfolio return                     0.0343                 0.2047\n",
       "Portfolio volatility                 0.0191                 0.1402\n",
       "Sharpe ratio                         0.0900                 0.2200"
      ]
     },
     "execution_count": 33,
     "metadata": {},
     "output_type": "execute_result"
    }
   ],
   "source": [
    "# BL MSR portfolio\n",
    "ret_bl_msr_2010 = fun.portfolio_return(msr_2010_bl, mu_bl_2010)\n",
    "vol_bl_msr_2010 = fun.portfolio_vol(msr_2010_bl, cov_bl_2010)\n",
    "sharpe_bl_msr_2010 = fun.sharpe(ret_bl_msr_2010, vol_bl_msr_2010, rf)\n",
    "\n",
    "# BL GMV portfolio\n",
    "ret_bl_gmv_2010 = fun.portfolio_return(gmv_2010_bl, mu_bl_2010)\n",
    "vol_bl_gmv_2010 = fun.portfolio_vol(gmv_2010_bl, cov_bl_2010)\n",
    "sharpe_bl_gmv_2010 = fun.sharpe(ret_bl_gmv_2010, ret_bl_gmv_2010, rf)\n",
    "\n",
    "# Putting the computed characteristics into a table\n",
    "pd.concat([pd.DataFrame({'In-sample BL MSR 2010': ret_bl_msr_2010.round(4),\n",
    "             'In-sample BL GMV 2010': vol_bl_msr_2010.round(4)}, index = ['Portfolio return']),\n",
    "           pd.DataFrame({'In-sample BL MSR 2010': ret_bl_gmv_2010.round(4),\n",
    "             'In-sample BL GMV 2010': vol_bl_gmv_2010.round(4)}, index = ['Portfolio volatility']),\n",
    "          pd.DataFrame({'In-sample BL MSR 2010': sharpe_bl_msr_2010.round(2),\n",
    "             'In-sample BL GMV 2010': sharpe_bl_gmv_2010.round(2)}, index = ['Sharpe ratio'])\n",
    "          ], axis=0)"
   ]
  },
  {
   "cell_type": "markdown",
   "metadata": {},
   "source": [
    "Compared to Markowitz and Resampling, BL gave much more moderate expectations about MSR portfolio returns and Sharpe ratio. However, for the GMV portfolio, extimations are almost the same.  "
   ]
  },
  {
   "cell_type": "markdown",
   "metadata": {},
   "source": [
    "### 3.2. Out-of-sample portfolios (2011)"
   ]
  },
  {
   "cell_type": "code",
   "execution_count": 34,
   "metadata": {},
   "outputs": [
    {
     "data": {
      "text/html": [
       "<div>\n",
       "<style scoped>\n",
       "    .dataframe tbody tr th:only-of-type {\n",
       "        vertical-align: middle;\n",
       "    }\n",
       "\n",
       "    .dataframe tbody tr th {\n",
       "        vertical-align: top;\n",
       "    }\n",
       "\n",
       "    .dataframe thead th {\n",
       "        text-align: right;\n",
       "    }\n",
       "</style>\n",
       "<table border=\"1\" class=\"dataframe\">\n",
       "  <thead>\n",
       "    <tr style=\"text-align: right;\">\n",
       "      <th></th>\n",
       "      <th>Out-of-sample BL MSR 2011</th>\n",
       "      <th>Out-of-sample BL GMV 2011</th>\n",
       "    </tr>\n",
       "  </thead>\n",
       "  <tbody>\n",
       "    <tr>\n",
       "      <th>Portfolio return</th>\n",
       "      <td>0.0944</td>\n",
       "      <td>-0.0263</td>\n",
       "    </tr>\n",
       "    <tr>\n",
       "      <th>Portfolio volatility</th>\n",
       "      <td>0.2207</td>\n",
       "      <td>0.2041</td>\n",
       "    </tr>\n",
       "    <tr>\n",
       "      <th>Sharpe ratio</th>\n",
       "      <td>0.3600</td>\n",
       "      <td>-0.2000</td>\n",
       "    </tr>\n",
       "  </tbody>\n",
       "</table>\n",
       "</div>"
      ],
      "text/plain": [
       "                      Out-of-sample BL MSR 2011  Out-of-sample BL GMV 2011\n",
       "Portfolio return                         0.0944                    -0.0263\n",
       "Portfolio volatility                     0.2207                     0.2041\n",
       "Sharpe ratio                             0.3600                    -0.2000"
      ]
     },
     "execution_count": 34,
     "metadata": {},
     "output_type": "execute_result"
    }
   ],
   "source": [
    "# BL MSR portfolio\n",
    "ret_out_bl_msr_2011 = fun.portfolio_return(msr_2010_bl, ann_returns_2011).round(4)\n",
    "vol_out_bl_msr_2011 = fun.portfolio_vol(msr_2010_bl, ann_cov_2011).round(4)\n",
    "sharpe_out_bl_msr_2011 = fun.sharpe(ret_out_bl_msr_2011, vol_out_bl_msr_2011, rf).round(2)\n",
    "\n",
    "# BL GMV portfolio\n",
    "ret_out_bl_gmv_2011 = fun.portfolio_return(gmv_2010_bl, ann_returns_2011).round(4)\n",
    "vol_out_bl_gmv_2011 = fun.portfolio_vol(gmv_2010_bl, ann_cov_2011).round(4)\n",
    "sharpe_out_bl_gmv_2011 = fun.sharpe(ret_out_bl_gmv_2011, vol_out_bl_gmv_2011, rf).round(2)\n",
    "\n",
    "# Putting the computed characteristics into a table\n",
    "pd.concat([pd.DataFrame({'Out-of-sample BL MSR 2011': ret_out_bl_msr_2011,\n",
    "             'Out-of-sample BL GMV 2011': ret_out_bl_gmv_2011}, index = ['Portfolio return']),\n",
    "           pd.DataFrame({'Out-of-sample BL MSR 2011': vol_out_bl_msr_2011,\n",
    "             'Out-of-sample BL GMV 2011': vol_out_bl_gmv_2011}, index = ['Portfolio volatility']),\n",
    "          pd.DataFrame({'Out-of-sample BL MSR 2011': sharpe_out_bl_msr_2011,\n",
    "             'Out-of-sample BL GMV 2011': sharpe_out_bl_gmv_2011}, index = ['Sharpe ratio'])\n",
    "          ], axis=0)"
   ]
  },
  {
   "cell_type": "markdown",
   "metadata": {},
   "source": [
    "The table above shows that if we invested in stocks using weights computed with the help of the Black-Litterman model, our MSR portfolio would give us much better returns and Sharpe ratio (total return of 9.44%, or 0.36% per unit of risk compared to -11.07% and -0.39%, respectively). However, our BL GMV portfolio does not differ much from Markowitz or resampled GMV portfolios. "
   ]
  },
  {
   "cell_type": "code",
   "execution_count": 35,
   "metadata": {},
   "outputs": [
    {
     "data": {
      "image/png": "[encoded data removed]",
      "text/plain": [
       "<Figure size 432x288 with 1 Axes>"
      ]
     },
     "metadata": {
      "needs_background": "light"
     },
     "output_type": "display_data"
    }
   ],
   "source": [
    "fun.plot_all(rf, mu_bl_2010, cov_bl_2010, ann_returns_2011, ann_cov_2011,\n",
    "             title='Black-Litterman 2010-2011',\n",
    "             name_1='Expected BL EF (based on 2010)',\n",
    "             name_2='Expected BL MSR (based on 2010)', \n",
    "             name_3='Expected BL GMV (based on 2010)', \n",
    "             name_4='In-sample EF (2011)', \n",
    "             name_5='In-sample MSR (2011)', \n",
    "             name_6='In-sample GMV (2011)', \n",
    "             name_7='Realised BL MSR (2011)', \n",
    "             name_8='Realised BL GMV (2011)', \n",
    "             ew=False, grid=False)"
   ]
  },
  {
   "cell_type": "markdown",
   "metadata": {},
   "source": [
    "Although the BL model gave us better results for MSR, the graph above shows that even BL was not able to \"guess\" a shape and location of efficient frontier."
   ]
  },
  {
   "cell_type": "markdown",
   "metadata": {},
   "source": [
    "## 4. Markowitz vs Resampling 2011-2019"
   ]
  },
  {
   "cell_type": "markdown",
   "metadata": {},
   "source": [
    "Previously, we tested the three methods of portfolio optimization over one year only. Now let us take a bigger period, for example 9 year, from 2011 to 2019, and test the algorithms again. However, for the Black-Litterman model we need views, which are difficult to generate meaningfully. With random views, the method will not give the results it is supposed to give. Thus, let us test the two remainimg methods (Markowitz and Resampling) and compare our final results."
   ]
  },
  {
   "cell_type": "markdown",
   "metadata": {},
   "source": [
    "### 4.1. MSR portfolios"
   ]
  },
  {
   "cell_type": "markdown",
   "metadata": {},
   "source": [
    "First, we test MSR portfolios. Here we do not show the process of testing itself as it would take a lot of time to run all the codes (and, actually, it is just a multiple repetition of what we did before). However, we share the results that can be found in the accompanying file \"Data\" on the sheets \"Results MSR\" and \"Weights MSR\".\n",
    "\n",
    "There, risk-return characteristics of three portfolios can be found:\n",
    "- 1st portfolio: In-sample MSR;\n",
    "- 2d portfolio: Out-of-sample MSR (we take returns and covariance of the previous year and, based on them, computed weighs according to which we invest in the next year, then we take returns and covariances of this \"next\" year and calculate portfolio risk-return characteristics with the weights from the previous year);\n",
    "- 3d portfolio: Out-of-sample resampled MSR (the only difference of this portfolio compared to the second one, is that weights were computed using resampling).  "
   ]
  },
  {
   "cell_type": "code",
   "execution_count": 36,
   "metadata": {},
   "outputs": [
    {
     "data": {
      "text/html": [
       "<div>\n",
       "<style scoped>\n",
       "    .dataframe tbody tr th:only-of-type {\n",
       "        vertical-align: middle;\n",
       "    }\n",
       "\n",
       "    .dataframe tbody tr th {\n",
       "        vertical-align: top;\n",
       "    }\n",
       "\n",
       "    .dataframe thead th {\n",
       "        text-align: right;\n",
       "    }\n",
       "</style>\n",
       "<table border=\"1\" class=\"dataframe\">\n",
       "  <thead>\n",
       "    <tr style=\"text-align: right;\">\n",
       "      <th></th>\n",
       "      <th>Returns in-sample MSR</th>\n",
       "      <th>Volatility in-sample MSR</th>\n",
       "      <th>Sharpe ratio in-sample MSR</th>\n",
       "      <th>Returns out-of-sample MSR</th>\n",
       "      <th>Volatility out-of-sample MSR</th>\n",
       "      <th>Sharpe ratio out-of-sample MSR</th>\n",
       "      <th>Returns out-of-sample resampled MSR</th>\n",
       "      <th>Volatility out-of-sample resampled MSR</th>\n",
       "      <th>Sharpe ratio out-of-sample resampled MSR</th>\n",
       "    </tr>\n",
       "  </thead>\n",
       "  <tbody>\n",
       "    <tr>\n",
       "      <th>2011</th>\n",
       "      <td>0.1860</td>\n",
       "      <td>0.2600</td>\n",
       "      <td>0.66</td>\n",
       "      <td>-0.1074</td>\n",
       "      <td>0.3149</td>\n",
       "      <td>-0.39</td>\n",
       "      <td>-0.1107</td>\n",
       "      <td>0.3199</td>\n",
       "      <td>-0.39</td>\n",
       "    </tr>\n",
       "    <tr>\n",
       "      <th>2012</th>\n",
       "      <td>0.3978</td>\n",
       "      <td>0.1896</td>\n",
       "      <td>2.02</td>\n",
       "      <td>0.2580</td>\n",
       "      <td>0.2102</td>\n",
       "      <td>1.16</td>\n",
       "      <td>0.2472</td>\n",
       "      <td>0.2045</td>\n",
       "      <td>1.14</td>\n",
       "    </tr>\n",
       "    <tr>\n",
       "      <th>2013</th>\n",
       "      <td>0.3226</td>\n",
       "      <td>0.1653</td>\n",
       "      <td>1.86</td>\n",
       "      <td>0.1652</td>\n",
       "      <td>0.1785</td>\n",
       "      <td>0.84</td>\n",
       "      <td>0.1124</td>\n",
       "      <td>0.1727</td>\n",
       "      <td>0.56</td>\n",
       "    </tr>\n",
       "    <tr>\n",
       "      <th>2014</th>\n",
       "      <td>0.2970</td>\n",
       "      <td>0.1653</td>\n",
       "      <td>1.71</td>\n",
       "      <td>0.2280</td>\n",
       "      <td>0.1399</td>\n",
       "      <td>1.52</td>\n",
       "      <td>0.2238</td>\n",
       "      <td>0.1480</td>\n",
       "      <td>1.41</td>\n",
       "    </tr>\n",
       "    <tr>\n",
       "      <th>2015</th>\n",
       "      <td>0.3070</td>\n",
       "      <td>0.2480</td>\n",
       "      <td>1.18</td>\n",
       "      <td>0.1684</td>\n",
       "      <td>0.1943</td>\n",
       "      <td>0.79</td>\n",
       "      <td>0.1351</td>\n",
       "      <td>0.2005</td>\n",
       "      <td>0.60</td>\n",
       "    </tr>\n",
       "  </tbody>\n",
       "</table>\n",
       "</div>"
      ],
      "text/plain": [
       "      Returns in-sample MSR  Volatility in-sample MSR  \\\n",
       "2011                 0.1860                    0.2600   \n",
       "2012                 0.3978                    0.1896   \n",
       "2013                 0.3226                    0.1653   \n",
       "2014                 0.2970                    0.1653   \n",
       "2015                 0.3070                    0.2480   \n",
       "\n",
       "      Sharpe ratio in-sample MSR  Returns out-of-sample MSR  \\\n",
       "2011                        0.66                    -0.1074   \n",
       "2012                        2.02                     0.2580   \n",
       "2013                        1.86                     0.1652   \n",
       "2014                        1.71                     0.2280   \n",
       "2015                        1.18                     0.1684   \n",
       "\n",
       "      Volatility out-of-sample MSR  Sharpe ratio out-of-sample MSR  \\\n",
       "2011                        0.3149                           -0.39   \n",
       "2012                        0.2102                            1.16   \n",
       "2013                        0.1785                            0.84   \n",
       "2014                        0.1399                            1.52   \n",
       "2015                        0.1943                            0.79   \n",
       "\n",
       "      Returns out-of-sample resampled MSR  \\\n",
       "2011                              -0.1107   \n",
       "2012                               0.2472   \n",
       "2013                               0.1124   \n",
       "2014                               0.2238   \n",
       "2015                               0.1351   \n",
       "\n",
       "      Volatility out-of-sample resampled MSR  \\\n",
       "2011                                  0.3199   \n",
       "2012                                  0.2045   \n",
       "2013                                  0.1727   \n",
       "2014                                  0.1480   \n",
       "2015                                  0.2005   \n",
       "\n",
       "      Sharpe ratio out-of-sample resampled MSR  \n",
       "2011                                     -0.39  \n",
       "2012                                      1.14  \n",
       "2013                                      0.56  \n",
       "2014                                      1.41  \n",
       "2015                                      0.60  "
      ]
     },
     "execution_count": 36,
     "metadata": {},
     "output_type": "execute_result"
    }
   ],
   "source": [
    "msr = pd.read_excel('Data.xlsx','Results MSR',index_col=[0])\n",
    "msr.head()"
   ]
  },
  {
   "cell_type": "code",
   "execution_count": 37,
   "metadata": {},
   "outputs": [
    {
     "data": {
      "image/png": "[encoded data removed]",
      "text/plain": [
       "<Figure size 576x288 with 1 Axes>"
      ]
     },
     "metadata": {
      "needs_background": "light"
     },
     "output_type": "display_data"
    },
    {
     "data": {
      "image/png": "[encoded data removed]",
      "text/plain": [
       "<Figure size 576x288 with 1 Axes>"
      ]
     },
     "metadata": {
      "needs_background": "light"
     },
     "output_type": "display_data"
    }
   ],
   "source": [
    "msr[['Returns in-sample MSR', 'Returns out-of-sample MSR', 'Returns out-of-sample resampled MSR']].plot.bar(title='Portfolio returns MSR', figsize = (8, 4))\n",
    "msr[['Sharpe ratio in-sample MSR', 'Sharpe ratio out-of-sample MSR', 'Sharpe ratio out-of-sample resampled MSR']].plot.bar(title='Sharpe ratio MSR', figsize = (8, 4))\n",
    "plt.show()"
   ]
  },
  {
   "cell_type": "markdown",
   "metadata": {},
   "source": [
    "The graphs above show that neither Markowitz out-of-sample, nor resampled out-of-sample portfolios were able to correctly \"guess\" returns and Sharpe ratio of the in-sample portfolio. It also can be seen, that both Markowitz and resampled out-of-sample portfolios had more or less the same dynamics."
   ]
  },
  {
   "cell_type": "markdown",
   "metadata": {},
   "source": [
    "From the following graph and computed compounded and annualized returns, it can be seen that resampling gave slightly better returns than out-of-sample Markowitz (compounded return of 177% vs 154% and annualized return of almost 12% vs 11%). However, these numbers are still tiny compared to the in-sample Marokwitz."
   ]
  },
  {
   "cell_type": "code",
   "execution_count": 38,
   "metadata": {},
   "outputs": [
    {
     "data": {
      "image/png": "[encoded data removed]",
      "text/plain": [
       "<Figure size 576x288 with 1 Axes>"
      ]
     },
     "metadata": {
      "needs_background": "light"
     },
     "output_type": "display_data"
    }
   ],
   "source": [
    "# Here we show a development of our assets (initial value is equal to 1) if we invested them in MSR portfolios\n",
    "\n",
    "(msr[['Returns in-sample MSR', 'Returns out-of-sample MSR', 'Returns out-of-sample resampled MSR']] + 1).cumprod().plot(figsize=(8, 4), title='Asset growth MSR')\n",
    "plt.show()"
   ]
  },
  {
   "cell_type": "code",
   "execution_count": 39,
   "metadata": {},
   "outputs": [
    {
     "data": {
      "image/png": "[encoded data removed]",
      "text/plain": [
       "<Figure size 576x288 with 1 Axes>"
      ]
     },
     "metadata": {
      "needs_background": "light"
     },
     "output_type": "display_data"
    }
   ],
   "source": [
    "# Same graph as before but without the in-sample MSR portfolio\n",
    "\n",
    "(msr[['Returns out-of-sample MSR', 'Returns out-of-sample resampled MSR']] + 1).cumprod().plot(figsize=(8, 4), title='Asset growth MSR')\n",
    "plt.show()"
   ]
  },
  {
   "cell_type": "code",
   "execution_count": 40,
   "metadata": {},
   "outputs": [
    {
     "data": {
      "text/plain": [
       "Returns in-sample MSR                  14.534989\n",
       "Returns out-of-sample MSR               1.549261\n",
       "Returns out-of-sample resampled MSR     1.770007\n",
       "dtype: float64"
      ]
     },
     "execution_count": 40,
     "metadata": {},
     "output_type": "execute_result"
    }
   ],
   "source": [
    "fun.compound(msr[['Returns in-sample MSR', 'Returns out-of-sample MSR', 'Returns out-of-sample resampled MSR']])"
   ]
  },
  {
   "cell_type": "code",
   "execution_count": 41,
   "metadata": {},
   "outputs": [
    {
     "data": {
      "text/plain": [
       "Returns in-sample MSR                  0.356338\n",
       "Returns out-of-sample MSR              0.109576\n",
       "Returns out-of-sample resampled MSR    0.119862\n",
       "dtype: float64"
      ]
     },
     "execution_count": 41,
     "metadata": {},
     "output_type": "execute_result"
    }
   ],
   "source": [
    "fun.annualized_returns(msr[['Returns in-sample MSR', 'Returns out-of-sample MSR', 'Returns out-of-sample resampled MSR']], 1)"
   ]
  },
  {
   "cell_type": "markdown",
   "metadata": {},
   "source": [
    "Next, let us take a look at the weights of the constituents of the MSR portfolios. The graph below proves that neither out-of-sample Markowitz, nor out-of-sample resampled portfolios could correctly stop the constituents and their weights of the Markowitz in-sample portfolio. Also we can see that both out-of-sample portfolios behave alike (almost alway the same constituents with the same weights). Plus, all the portfolios are very concentrated. "
   ]
  },
  {
   "cell_type": "code",
   "execution_count": 42,
   "metadata": {},
   "outputs": [
    {
     "data": {
      "text/html": [
       "<div>\n",
       "<style scoped>\n",
       "    .dataframe tbody tr th:only-of-type {\n",
       "        vertical-align: middle;\n",
       "    }\n",
       "\n",
       "    .dataframe tbody tr th {\n",
       "        vertical-align: top;\n",
       "    }\n",
       "\n",
       "    .dataframe thead th {\n",
       "        text-align: right;\n",
       "    }\n",
       "</style>\n",
       "<table border=\"1\" class=\"dataframe\">\n",
       "  <thead>\n",
       "    <tr style=\"text-align: right;\">\n",
       "      <th></th>\n",
       "      <th>In-sample MSR 2011</th>\n",
       "      <th>Out-of-sample MSR 2011</th>\n",
       "      <th>Out-of-sample resampled MSR 2011</th>\n",
       "      <th>In-sample MSR 2012</th>\n",
       "      <th>Out-of-sample MSR 2012</th>\n",
       "      <th>Out-of-sample resampled MSR 2012</th>\n",
       "      <th>In-sample MSR 2013</th>\n",
       "      <th>Out-of-sample MSR 2013</th>\n",
       "      <th>Out-of-sample resampled MSR 2013</th>\n",
       "      <th>In-sample MSR 2014</th>\n",
       "      <th>...</th>\n",
       "      <th>Out-of-sample resampled MSR 2016</th>\n",
       "      <th>In-sample MSR 2017</th>\n",
       "      <th>Out-of-sample MSR 2017</th>\n",
       "      <th>Out-of-sample resampled MSR 2017</th>\n",
       "      <th>In-sample MSR 2018</th>\n",
       "      <th>Out-of-sample MSR 2018</th>\n",
       "      <th>Out-of-sample resampled MSR 2018</th>\n",
       "      <th>In-sample MSR 2019</th>\n",
       "      <th>Out-of-sample MSR 2019</th>\n",
       "      <th>Out-of-sample resampled MSR 2019</th>\n",
       "    </tr>\n",
       "  </thead>\n",
       "  <tbody>\n",
       "    <tr>\n",
       "      <th>AHOLD DELHAIZE</th>\n",
       "      <td>0</td>\n",
       "      <td>0.0</td>\n",
       "      <td>0.0</td>\n",
       "      <td>0.0</td>\n",
       "      <td>0</td>\n",
       "      <td>0.038</td>\n",
       "      <td>0.3775</td>\n",
       "      <td>0.0</td>\n",
       "      <td>0.0056</td>\n",
       "      <td>0.2447</td>\n",
       "      <td>...</td>\n",
       "      <td>0.970</td>\n",
       "      <td>0</td>\n",
       "      <td>0.0000</td>\n",
       "      <td>0.0060</td>\n",
       "      <td>0.6407</td>\n",
       "      <td>0</td>\n",
       "      <td>0</td>\n",
       "      <td>0.0000</td>\n",
       "      <td>0.6407</td>\n",
       "      <td>0.6460</td>\n",
       "    </tr>\n",
       "    <tr>\n",
       "      <th>L'AIR LIQUIDE</th>\n",
       "      <td>0</td>\n",
       "      <td>0.0</td>\n",
       "      <td>0.0</td>\n",
       "      <td>0.0</td>\n",
       "      <td>0</td>\n",
       "      <td>0.000</td>\n",
       "      <td>0.0000</td>\n",
       "      <td>0.0</td>\n",
       "      <td>0.0006</td>\n",
       "      <td>0.0000</td>\n",
       "      <td>...</td>\n",
       "      <td>0.000</td>\n",
       "      <td>0</td>\n",
       "      <td>0.0000</td>\n",
       "      <td>0.0008</td>\n",
       "      <td>0.0000</td>\n",
       "      <td>0</td>\n",
       "      <td>0</td>\n",
       "      <td>0.0000</td>\n",
       "      <td>0.0000</td>\n",
       "      <td>0.0044</td>\n",
       "    </tr>\n",
       "    <tr>\n",
       "      <th>BASF</th>\n",
       "      <td>0</td>\n",
       "      <td>0.0</td>\n",
       "      <td>0.0</td>\n",
       "      <td>0.0</td>\n",
       "      <td>0</td>\n",
       "      <td>0.000</td>\n",
       "      <td>0.0000</td>\n",
       "      <td>0.0</td>\n",
       "      <td>0.0283</td>\n",
       "      <td>0.0000</td>\n",
       "      <td>...</td>\n",
       "      <td>0.000</td>\n",
       "      <td>0</td>\n",
       "      <td>0.5873</td>\n",
       "      <td>0.3759</td>\n",
       "      <td>0.0000</td>\n",
       "      <td>0</td>\n",
       "      <td>0</td>\n",
       "      <td>0.0000</td>\n",
       "      <td>0.0000</td>\n",
       "      <td>0.0000</td>\n",
       "    </tr>\n",
       "    <tr>\n",
       "      <th>SAINT GOBAIN</th>\n",
       "      <td>0</td>\n",
       "      <td>0.0</td>\n",
       "      <td>0.0</td>\n",
       "      <td>0.0</td>\n",
       "      <td>0</td>\n",
       "      <td>0.000</td>\n",
       "      <td>0.0254</td>\n",
       "      <td>0.0</td>\n",
       "      <td>0.0006</td>\n",
       "      <td>0.0000</td>\n",
       "      <td>...</td>\n",
       "      <td>0.002</td>\n",
       "      <td>0</td>\n",
       "      <td>0.0000</td>\n",
       "      <td>0.0030</td>\n",
       "      <td>0.0000</td>\n",
       "      <td>0</td>\n",
       "      <td>0</td>\n",
       "      <td>0.0000</td>\n",
       "      <td>0.0000</td>\n",
       "      <td>0.0001</td>\n",
       "    </tr>\n",
       "    <tr>\n",
       "      <th>ENDESA</th>\n",
       "      <td>0</td>\n",
       "      <td>0.0</td>\n",
       "      <td>0.0</td>\n",
       "      <td>0.0</td>\n",
       "      <td>0</td>\n",
       "      <td>0.000</td>\n",
       "      <td>0.4885</td>\n",
       "      <td>0.0</td>\n",
       "      <td>0.0069</td>\n",
       "      <td>0.7553</td>\n",
       "      <td>...</td>\n",
       "      <td>0.010</td>\n",
       "      <td>0</td>\n",
       "      <td>0.0000</td>\n",
       "      <td>0.0273</td>\n",
       "      <td>0.3217</td>\n",
       "      <td>0</td>\n",
       "      <td>0</td>\n",
       "      <td>0.0816</td>\n",
       "      <td>0.3217</td>\n",
       "      <td>0.1807</td>\n",
       "    </tr>\n",
       "  </tbody>\n",
       "</table>\n",
       "<p>5 rows × 27 columns</p>\n",
       "</div>"
      ],
      "text/plain": [
       "                In-sample MSR 2011  Out-of-sample MSR 2011  \\\n",
       "AHOLD DELHAIZE                   0                     0.0   \n",
       "L'AIR LIQUIDE                    0                     0.0   \n",
       "BASF                             0                     0.0   \n",
       "SAINT GOBAIN                     0                     0.0   \n",
       "ENDESA                           0                     0.0   \n",
       "\n",
       "                Out-of-sample resampled MSR 2011  In-sample MSR 2012  \\\n",
       "AHOLD DELHAIZE                               0.0                 0.0   \n",
       "L'AIR LIQUIDE                                0.0                 0.0   \n",
       "BASF                                         0.0                 0.0   \n",
       "SAINT GOBAIN                                 0.0                 0.0   \n",
       "ENDESA                                       0.0                 0.0   \n",
       "\n",
       "                Out-of-sample MSR 2012  Out-of-sample resampled MSR 2012  \\\n",
       "AHOLD DELHAIZE                       0                             0.038   \n",
       "L'AIR LIQUIDE                        0                             0.000   \n",
       "BASF                                 0                             0.000   \n",
       "SAINT GOBAIN                         0                             0.000   \n",
       "ENDESA                               0                             0.000   \n",
       "\n",
       "                In-sample MSR 2013  Out-of-sample MSR 2013  \\\n",
       "AHOLD DELHAIZE              0.3775                     0.0   \n",
       "L'AIR LIQUIDE               0.0000                     0.0   \n",
       "BASF                        0.0000                     0.0   \n",
       "SAINT GOBAIN                0.0254                     0.0   \n",
       "ENDESA                      0.4885                     0.0   \n",
       "\n",
       "                Out-of-sample resampled MSR 2013  In-sample MSR 2014  ...  \\\n",
       "AHOLD DELHAIZE                            0.0056              0.2447  ...   \n",
       "L'AIR LIQUIDE                             0.0006              0.0000  ...   \n",
       "BASF                                      0.0283              0.0000  ...   \n",
       "SAINT GOBAIN                              0.0006              0.0000  ...   \n",
       "ENDESA                                    0.0069              0.7553  ...   \n",
       "\n",
       "                Out-of-sample resampled MSR 2016  In-sample MSR 2017  \\\n",
       "AHOLD DELHAIZE                             0.970                   0   \n",
       "L'AIR LIQUIDE                              0.000                   0   \n",
       "BASF                                       0.000                   0   \n",
       "SAINT GOBAIN                               0.002                   0   \n",
       "ENDESA                                     0.010                   0   \n",
       "\n",
       "                Out-of-sample MSR 2017  Out-of-sample resampled MSR 2017  \\\n",
       "AHOLD DELHAIZE                  0.0000                            0.0060   \n",
       "L'AIR LIQUIDE                   0.0000                            0.0008   \n",
       "BASF                            0.5873                            0.3759   \n",
       "SAINT GOBAIN                    0.0000                            0.0030   \n",
       "ENDESA                          0.0000                            0.0273   \n",
       "\n",
       "                In-sample MSR 2018  Out-of-sample MSR 2018  \\\n",
       "AHOLD DELHAIZE              0.6407                       0   \n",
       "L'AIR LIQUIDE               0.0000                       0   \n",
       "BASF                        0.0000                       0   \n",
       "SAINT GOBAIN                0.0000                       0   \n",
       "ENDESA                      0.3217                       0   \n",
       "\n",
       "                Out-of-sample resampled MSR 2018  In-sample MSR 2019  \\\n",
       "AHOLD DELHAIZE                                 0              0.0000   \n",
       "L'AIR LIQUIDE                                  0              0.0000   \n",
       "BASF                                           0              0.0000   \n",
       "SAINT GOBAIN                                   0              0.0000   \n",
       "ENDESA                                         0              0.0816   \n",
       "\n",
       "                Out-of-sample MSR 2019  Out-of-sample resampled MSR 2019  \n",
       "AHOLD DELHAIZE                  0.6407                            0.6460  \n",
       "L'AIR LIQUIDE                   0.0000                            0.0044  \n",
       "BASF                            0.0000                            0.0000  \n",
       "SAINT GOBAIN                    0.0000                            0.0001  \n",
       "ENDESA                          0.3217                            0.1807  \n",
       "\n",
       "[5 rows x 27 columns]"
      ]
     },
     "execution_count": 42,
     "metadata": {},
     "output_type": "execute_result"
    }
   ],
   "source": [
    "msr_weights = pd.read_excel('Data.xlsx','Weights MSR',index_col=[0])\n",
    "msr_weights.head()"
   ]
  },
  {
   "cell_type": "code",
   "execution_count": 43,
   "metadata": {},
   "outputs": [
    {
     "data": {
      "image/png": "[encoded data removed]",
      "text/plain": [
       "<Figure size 1080x432 with 5 Axes>"
      ]
     },
     "metadata": {
      "needs_background": "light"
     },
     "output_type": "display_data"
    }
   ],
   "source": [
    "fig, (one_ax, two_ax, three_ax, four_ax, five_ax) = plt.subplots(nrows=1, ncols=5, sharey=True, gridspec_kw={'width_ratios':[1, 1, 1, 1, 1]}, figsize=(15, 6))\n",
    "plt.subplots_adjust(wspace=0.05)\n",
    "\n",
    "msr_weights[['In-sample MSR 2011', 'Out-of-sample MSR 2011', 'Out-of-sample resampled MSR 2011']].T.plot.bar(ax=one_ax, stacked=True, legend=False, title='Weights MSR 2011')\n",
    "msr_weights[['In-sample MSR 2012', 'Out-of-sample MSR 2012', 'Out-of-sample resampled MSR 2012']].T.plot.bar(ax=two_ax, stacked=True, legend=False, title='Weights MSR 2012')\n",
    "msr_weights[['In-sample MSR 2013', 'Out-of-sample MSR 2013', 'Out-of-sample resampled MSR 2013']].T.plot.bar(ax=three_ax, stacked=True, legend=False, title='Weights MSR 2013')\n",
    "msr_weights[['In-sample MSR 2014', 'Out-of-sample MSR 2014', 'Out-of-sample resampled MSR 2014']].T.plot.bar(ax=four_ax, stacked=True, legend=False, title='Weights MSR 2014')\n",
    "msr_weights[['In-sample MSR 2015', 'Out-of-sample MSR 2015', 'Out-of-sample resampled MSR 2015']].T.plot.bar(ax=five_ax, stacked=True, legend=False, title='Weights MSR 2015')\n",
    "plt.show()"
   ]
  },
  {
   "cell_type": "code",
   "execution_count": 44,
   "metadata": {},
   "outputs": [
    {
     "data": {
      "image/png": "[encoded data removed]",
      "text/plain": [
       "<Figure size 1080x432 with 4 Axes>"
      ]
     },
     "metadata": {
      "needs_background": "light"
     },
     "output_type": "display_data"
    }
   ],
   "source": [
    "fig, (one_ax, two_ax, three_ax, four_ax) = plt.subplots(nrows=1, ncols=4, sharey=True, gridspec_kw={'width_ratios':[1, 1, 1, 1]}, figsize=(15, 6))\n",
    "plt.subplots_adjust(wspace=0.05)\n",
    "\n",
    "msr_weights[['In-sample MSR 2016', 'Out-of-sample MSR 2016', 'Out-of-sample resampled MSR 2016']].T.plot.bar(ax=one_ax, stacked=True, legend=False, title='Weights MSR 2016')\n",
    "msr_weights[['In-sample MSR 2017', 'Out-of-sample MSR 2017', 'Out-of-sample resampled MSR 2017']].T.plot.bar(ax=two_ax, stacked=True, legend=False, title='Weights MSR 2017')\n",
    "msr_weights[['In-sample MSR 2018', 'Out-of-sample MSR 2018', 'Out-of-sample resampled MSR 2018']].T.plot.bar(ax=three_ax, stacked=True, legend=False, title='Weights MSR 2018')\n",
    "msr_weights[['In-sample MSR 2019', 'Out-of-sample MSR 2019', 'Out-of-sample resampled MSR 2019']].T.plot.bar(ax=four_ax, stacked=True, legend=False, title='Weights MSR 2019')\n",
    "plt.show()"
   ]
  },
  {
   "cell_type": "markdown",
   "metadata": {},
   "source": [
    "### 4.2. GMV portfolios"
   ]
  },
  {
   "cell_type": "markdown",
   "metadata": {},
   "source": [
    "After MSR portfolios, les us take a look at the GMV portfolios. Here it makes sense to compare volatilities of  the portfolios. The graph below shows that both out-of-sample portfolios were able to track the volatility of the in-sample portfolio quite successfully. Thus, it is not a surptise, that risk-return characteristics of the three portfolios and their composition constituents-wise are much more similar to each other."
   ]
  },
  {
   "cell_type": "code",
   "execution_count": 45,
   "metadata": {},
   "outputs": [
    {
     "data": {
      "text/html": [
       "<div>\n",
       "<style scoped>\n",
       "    .dataframe tbody tr th:only-of-type {\n",
       "        vertical-align: middle;\n",
       "    }\n",
       "\n",
       "    .dataframe tbody tr th {\n",
       "        vertical-align: top;\n",
       "    }\n",
       "\n",
       "    .dataframe thead th {\n",
       "        text-align: right;\n",
       "    }\n",
       "</style>\n",
       "<table border=\"1\" class=\"dataframe\">\n",
       "  <thead>\n",
       "    <tr style=\"text-align: right;\">\n",
       "      <th></th>\n",
       "      <th>Returns in-sample GMV</th>\n",
       "      <th>Volatility in-sample GMV</th>\n",
       "      <th>Sharpe ratio in-sample GMV</th>\n",
       "      <th>Returns out-of-sample GMV</th>\n",
       "      <th>Volatility out-of-sample GMV</th>\n",
       "      <th>Sharpe ratio out-of-sample GMV</th>\n",
       "      <th>Returns out-of-sample resampled GMV</th>\n",
       "      <th>Volatility out-of-sample resampled GMV</th>\n",
       "      <th>Sharpe ratio out-of-sample resampled GMV</th>\n",
       "    </tr>\n",
       "  </thead>\n",
       "  <tbody>\n",
       "    <tr>\n",
       "      <th>2011</th>\n",
       "      <td>0.0266</td>\n",
       "      <td>0.1698</td>\n",
       "      <td>0.07</td>\n",
       "      <td>-0.0262</td>\n",
       "      <td>0.2040</td>\n",
       "      <td>-0.20</td>\n",
       "      <td>-0.0208</td>\n",
       "      <td>0.2017</td>\n",
       "      <td>-0.18</td>\n",
       "    </tr>\n",
       "    <tr>\n",
       "      <th>2012</th>\n",
       "      <td>0.1379</td>\n",
       "      <td>0.1419</td>\n",
       "      <td>0.87</td>\n",
       "      <td>0.0866</td>\n",
       "      <td>0.1473</td>\n",
       "      <td>0.49</td>\n",
       "      <td>0.1065</td>\n",
       "      <td>0.1451</td>\n",
       "      <td>0.63</td>\n",
       "    </tr>\n",
       "    <tr>\n",
       "      <th>2013</th>\n",
       "      <td>0.1785</td>\n",
       "      <td>0.1386</td>\n",
       "      <td>1.18</td>\n",
       "      <td>0.2352</td>\n",
       "      <td>0.1529</td>\n",
       "      <td>1.44</td>\n",
       "      <td>0.2025</td>\n",
       "      <td>0.1489</td>\n",
       "      <td>1.26</td>\n",
       "    </tr>\n",
       "    <tr>\n",
       "      <th>2014</th>\n",
       "      <td>0.1400</td>\n",
       "      <td>0.1251</td>\n",
       "      <td>1.00</td>\n",
       "      <td>0.1217</td>\n",
       "      <td>0.1357</td>\n",
       "      <td>0.79</td>\n",
       "      <td>0.0875</td>\n",
       "      <td>0.1379</td>\n",
       "      <td>0.53</td>\n",
       "    </tr>\n",
       "    <tr>\n",
       "      <th>2015</th>\n",
       "      <td>0.1300</td>\n",
       "      <td>0.1640</td>\n",
       "      <td>0.70</td>\n",
       "      <td>0.1698</td>\n",
       "      <td>0.2019</td>\n",
       "      <td>0.77</td>\n",
       "      <td>0.1403</td>\n",
       "      <td>0.2042</td>\n",
       "      <td>0.61</td>\n",
       "    </tr>\n",
       "  </tbody>\n",
       "</table>\n",
       "</div>"
      ],
      "text/plain": [
       "      Returns in-sample GMV  Volatility in-sample GMV  \\\n",
       "2011                 0.0266                    0.1698   \n",
       "2012                 0.1379                    0.1419   \n",
       "2013                 0.1785                    0.1386   \n",
       "2014                 0.1400                    0.1251   \n",
       "2015                 0.1300                    0.1640   \n",
       "\n",
       "      Sharpe ratio in-sample GMV  Returns out-of-sample GMV  \\\n",
       "2011                        0.07                    -0.0262   \n",
       "2012                        0.87                     0.0866   \n",
       "2013                        1.18                     0.2352   \n",
       "2014                        1.00                     0.1217   \n",
       "2015                        0.70                     0.1698   \n",
       "\n",
       "      Volatility out-of-sample GMV  Sharpe ratio out-of-sample GMV  \\\n",
       "2011                        0.2040                           -0.20   \n",
       "2012                        0.1473                            0.49   \n",
       "2013                        0.1529                            1.44   \n",
       "2014                        0.1357                            0.79   \n",
       "2015                        0.2019                            0.77   \n",
       "\n",
       "      Returns out-of-sample resampled GMV  \\\n",
       "2011                              -0.0208   \n",
       "2012                               0.1065   \n",
       "2013                               0.2025   \n",
       "2014                               0.0875   \n",
       "2015                               0.1403   \n",
       "\n",
       "      Volatility out-of-sample resampled GMV  \\\n",
       "2011                                  0.2017   \n",
       "2012                                  0.1451   \n",
       "2013                                  0.1489   \n",
       "2014                                  0.1379   \n",
       "2015                                  0.2042   \n",
       "\n",
       "      Sharpe ratio out-of-sample resampled GMV  \n",
       "2011                                     -0.18  \n",
       "2012                                      0.63  \n",
       "2013                                      1.26  \n",
       "2014                                      0.53  \n",
       "2015                                      0.61  "
      ]
     },
     "execution_count": 45,
     "metadata": {},
     "output_type": "execute_result"
    }
   ],
   "source": [
    "gmv = pd.read_excel('Data.xlsx','Results GMV',index_col=[0])\n",
    "gmv.head()"
   ]
  },
  {
   "cell_type": "code",
   "execution_count": 46,
   "metadata": {},
   "outputs": [
    {
     "data": {
      "image/png": "[encoded data removed]",
      "text/plain": [
       "<Figure size 576x288 with 1 Axes>"
      ]
     },
     "metadata": {
      "needs_background": "light"
     },
     "output_type": "display_data"
    },
    {
     "data": {
      "image/png": "[encoded data removed]",
      "text/plain": [
       "<Figure size 576x288 with 1 Axes>"
      ]
     },
     "metadata": {
      "needs_background": "light"
     },
     "output_type": "display_data"
    }
   ],
   "source": [
    "gmv[['Volatility in-sample GMV', 'Volatility out-of-sample GMV', 'Volatility out-of-sample resampled GMV']].plot.bar(title='Portfolio volatility GMV', figsize = (8, 4))\n",
    "gmv[['Returns in-sample GMV', 'Returns out-of-sample GMV', 'Returns out-of-sample resampled GMV']].plot.bar(title='Portfolio returns GMV', figsize = (8, 4))\n",
    "plt.show()"
   ]
  },
  {
   "cell_type": "code",
   "execution_count": 47,
   "metadata": {},
   "outputs": [
    {
     "data": {
      "image/png": "[encoded data removed]",
      "text/plain": [
       "<Figure size 576x288 with 1 Axes>"
      ]
     },
     "metadata": {
      "needs_background": "light"
     },
     "output_type": "display_data"
    }
   ],
   "source": [
    "# Here we show a development of our assets (initial value is equal to 1) if we invested them in GMV portfolios\n",
    "\n",
    "(gmv[['Returns in-sample GMV', 'Returns out-of-sample GMV', 'Returns out-of-sample resampled GMV']] + 1).cumprod().plot(figsize=(8, 4), title='Asset growth GMV')\n",
    "plt.show()"
   ]
  },
  {
   "cell_type": "code",
   "execution_count": 48,
   "metadata": {},
   "outputs": [
    {
     "data": {
      "text/plain": [
       "Returns in-sample GMV                  1.434789\n",
       "Returns out-of-sample GMV              1.092645\n",
       "Returns out-of-sample resampled GMV    1.149413\n",
       "dtype: float64"
      ]
     },
     "execution_count": 48,
     "metadata": {},
     "output_type": "execute_result"
    }
   ],
   "source": [
    "fun.compound(gmv[['Returns in-sample GMV', 'Returns out-of-sample GMV', 'Returns out-of-sample resampled GMV']])"
   ]
  },
  {
   "cell_type": "code",
   "execution_count": 49,
   "metadata": {
    "scrolled": true
   },
   "outputs": [
    {
     "data": {
      "text/plain": [
       "Returns in-sample GMV                  0.103926\n",
       "Returns out-of-sample GMV              0.085508\n",
       "Returns out-of-sample resampled GMV    0.088741\n",
       "dtype: float64"
      ]
     },
     "execution_count": 49,
     "metadata": {},
     "output_type": "execute_result"
    }
   ],
   "source": [
    "fun.annualized_returns(gmv[['Returns in-sample GMV', 'Returns out-of-sample GMV', 'Returns out-of-sample resampled GMV']], 1)"
   ]
  },
  {
   "cell_type": "code",
   "execution_count": 50,
   "metadata": {},
   "outputs": [
    {
     "data": {
      "text/html": [
       "<div>\n",
       "<style scoped>\n",
       "    .dataframe tbody tr th:only-of-type {\n",
       "        vertical-align: middle;\n",
       "    }\n",
       "\n",
       "    .dataframe tbody tr th {\n",
       "        vertical-align: top;\n",
       "    }\n",
       "\n",
       "    .dataframe thead th {\n",
       "        text-align: right;\n",
       "    }\n",
       "</style>\n",
       "<table border=\"1\" class=\"dataframe\">\n",
       "  <thead>\n",
       "    <tr style=\"text-align: right;\">\n",
       "      <th></th>\n",
       "      <th>In-sample GMV 2011</th>\n",
       "      <th>Out-of-sample GMV 2011</th>\n",
       "      <th>Out-of-sample resampled GMV 2011</th>\n",
       "      <th>In-sample GMV 2012</th>\n",
       "      <th>Out-of-sample GMV 2012</th>\n",
       "      <th>Out-of-sample resampled GMV 2012</th>\n",
       "      <th>In-sample GMV 2013</th>\n",
       "      <th>Out-of-sample GMV 2013</th>\n",
       "      <th>Out-of-sample resampled GMV 2013</th>\n",
       "      <th>In-sample GMV 2014</th>\n",
       "      <th>...</th>\n",
       "      <th>Out-of-sample resampled GMV 2016</th>\n",
       "      <th>In-sample GMV 2017</th>\n",
       "      <th>Out-of-sample GMV 2017</th>\n",
       "      <th>Out-of-sample resampled GMV 2017</th>\n",
       "      <th>In-sample GMV 2018</th>\n",
       "      <th>Out-of-sample GMV 2018</th>\n",
       "      <th>Out-of-sample resampled GMV 2018</th>\n",
       "      <th>In-sample GMV 2019</th>\n",
       "      <th>Out-of-sample GMV 2019</th>\n",
       "      <th>Out-of-sample resampled GMV 2019</th>\n",
       "    </tr>\n",
       "  </thead>\n",
       "  <tbody>\n",
       "    <tr>\n",
       "      <th>AHOLD DELHAIZE</th>\n",
       "      <td>0.6058</td>\n",
       "      <td>0.5395</td>\n",
       "      <td>0.4251</td>\n",
       "      <td>0.4741</td>\n",
       "      <td>0.6058</td>\n",
       "      <td>0.5149</td>\n",
       "      <td>0.2143</td>\n",
       "      <td>0.4741</td>\n",
       "      <td>0.3719</td>\n",
       "      <td>0.2956</td>\n",
       "      <td>...</td>\n",
       "      <td>0.1172</td>\n",
       "      <td>0.1322</td>\n",
       "      <td>0.2518</td>\n",
       "      <td>0.1865</td>\n",
       "      <td>0.2261</td>\n",
       "      <td>0.1322</td>\n",
       "      <td>0.1193</td>\n",
       "      <td>0.1560</td>\n",
       "      <td>0.2261</td>\n",
       "      <td>0.2223</td>\n",
       "    </tr>\n",
       "    <tr>\n",
       "      <th>L'AIR LIQUIDE</th>\n",
       "      <td>0.0779</td>\n",
       "      <td>0.0000</td>\n",
       "      <td>0.0225</td>\n",
       "      <td>0.0550</td>\n",
       "      <td>0.0779</td>\n",
       "      <td>0.0947</td>\n",
       "      <td>0.4315</td>\n",
       "      <td>0.0550</td>\n",
       "      <td>0.0749</td>\n",
       "      <td>0.0000</td>\n",
       "      <td>...</td>\n",
       "      <td>0.0273</td>\n",
       "      <td>0.0649</td>\n",
       "      <td>0.1620</td>\n",
       "      <td>0.0961</td>\n",
       "      <td>0.0439</td>\n",
       "      <td>0.0649</td>\n",
       "      <td>0.0630</td>\n",
       "      <td>0.1218</td>\n",
       "      <td>0.0439</td>\n",
       "      <td>0.0844</td>\n",
       "    </tr>\n",
       "    <tr>\n",
       "      <th>BASF</th>\n",
       "      <td>0.0000</td>\n",
       "      <td>0.0000</td>\n",
       "      <td>0.0359</td>\n",
       "      <td>0.0000</td>\n",
       "      <td>0.0000</td>\n",
       "      <td>0.0071</td>\n",
       "      <td>0.0000</td>\n",
       "      <td>0.0000</td>\n",
       "      <td>0.0340</td>\n",
       "      <td>0.0000</td>\n",
       "      <td>...</td>\n",
       "      <td>0.0154</td>\n",
       "      <td>0.0862</td>\n",
       "      <td>0.0000</td>\n",
       "      <td>0.0608</td>\n",
       "      <td>0.0346</td>\n",
       "      <td>0.0862</td>\n",
       "      <td>0.0790</td>\n",
       "      <td>0.0654</td>\n",
       "      <td>0.0346</td>\n",
       "      <td>0.0233</td>\n",
       "    </tr>\n",
       "    <tr>\n",
       "      <th>SAINT GOBAIN</th>\n",
       "      <td>0.0000</td>\n",
       "      <td>0.0000</td>\n",
       "      <td>0.0066</td>\n",
       "      <td>0.0000</td>\n",
       "      <td>0.0000</td>\n",
       "      <td>0.0046</td>\n",
       "      <td>0.0125</td>\n",
       "      <td>0.0000</td>\n",
       "      <td>0.0153</td>\n",
       "      <td>0.0000</td>\n",
       "      <td>...</td>\n",
       "      <td>0.0523</td>\n",
       "      <td>0.0000</td>\n",
       "      <td>0.0000</td>\n",
       "      <td>0.0211</td>\n",
       "      <td>0.0760</td>\n",
       "      <td>0.0000</td>\n",
       "      <td>0.0667</td>\n",
       "      <td>0.0000</td>\n",
       "      <td>0.0760</td>\n",
       "      <td>0.0342</td>\n",
       "    </tr>\n",
       "    <tr>\n",
       "      <th>ENDESA</th>\n",
       "      <td>0.0000</td>\n",
       "      <td>0.0000</td>\n",
       "      <td>0.0644</td>\n",
       "      <td>0.0555</td>\n",
       "      <td>0.0000</td>\n",
       "      <td>0.0290</td>\n",
       "      <td>0.1118</td>\n",
       "      <td>0.0555</td>\n",
       "      <td>0.0773</td>\n",
       "      <td>0.1902</td>\n",
       "      <td>...</td>\n",
       "      <td>0.2878</td>\n",
       "      <td>0.1602</td>\n",
       "      <td>0.2999</td>\n",
       "      <td>0.2324</td>\n",
       "      <td>0.2084</td>\n",
       "      <td>0.1602</td>\n",
       "      <td>0.1422</td>\n",
       "      <td>0.2830</td>\n",
       "      <td>0.2084</td>\n",
       "      <td>0.1820</td>\n",
       "    </tr>\n",
       "  </tbody>\n",
       "</table>\n",
       "<p>5 rows × 27 columns</p>\n",
       "</div>"
      ],
      "text/plain": [
       "                In-sample GMV 2011  Out-of-sample GMV 2011  \\\n",
       "AHOLD DELHAIZE              0.6058                  0.5395   \n",
       "L'AIR LIQUIDE               0.0779                  0.0000   \n",
       "BASF                        0.0000                  0.0000   \n",
       "SAINT GOBAIN                0.0000                  0.0000   \n",
       "ENDESA                      0.0000                  0.0000   \n",
       "\n",
       "                Out-of-sample resampled GMV 2011  In-sample GMV 2012  \\\n",
       "AHOLD DELHAIZE                            0.4251              0.4741   \n",
       "L'AIR LIQUIDE                             0.0225              0.0550   \n",
       "BASF                                      0.0359              0.0000   \n",
       "SAINT GOBAIN                              0.0066              0.0000   \n",
       "ENDESA                                    0.0644              0.0555   \n",
       "\n",
       "                Out-of-sample GMV 2012  Out-of-sample resampled GMV 2012  \\\n",
       "AHOLD DELHAIZE                  0.6058                            0.5149   \n",
       "L'AIR LIQUIDE                   0.0779                            0.0947   \n",
       "BASF                            0.0000                            0.0071   \n",
       "SAINT GOBAIN                    0.0000                            0.0046   \n",
       "ENDESA                          0.0000                            0.0290   \n",
       "\n",
       "                In-sample GMV 2013  Out-of-sample GMV 2013  \\\n",
       "AHOLD DELHAIZE              0.2143                  0.4741   \n",
       "L'AIR LIQUIDE               0.4315                  0.0550   \n",
       "BASF                        0.0000                  0.0000   \n",
       "SAINT GOBAIN                0.0125                  0.0000   \n",
       "ENDESA                      0.1118                  0.0555   \n",
       "\n",
       "                Out-of-sample resampled GMV 2013  In-sample GMV 2014  ...  \\\n",
       "AHOLD DELHAIZE                            0.3719              0.2956  ...   \n",
       "L'AIR LIQUIDE                             0.0749              0.0000  ...   \n",
       "BASF                                      0.0340              0.0000  ...   \n",
       "SAINT GOBAIN                              0.0153              0.0000  ...   \n",
       "ENDESA                                    0.0773              0.1902  ...   \n",
       "\n",
       "                Out-of-sample resampled GMV 2016  In-sample GMV 2017  \\\n",
       "AHOLD DELHAIZE                            0.1172              0.1322   \n",
       "L'AIR LIQUIDE                             0.0273              0.0649   \n",
       "BASF                                      0.0154              0.0862   \n",
       "SAINT GOBAIN                              0.0523              0.0000   \n",
       "ENDESA                                    0.2878              0.1602   \n",
       "\n",
       "                Out-of-sample GMV 2017  Out-of-sample resampled GMV 2017  \\\n",
       "AHOLD DELHAIZE                  0.2518                            0.1865   \n",
       "L'AIR LIQUIDE                   0.1620                            0.0961   \n",
       "BASF                            0.0000                            0.0608   \n",
       "SAINT GOBAIN                    0.0000                            0.0211   \n",
       "ENDESA                          0.2999                            0.2324   \n",
       "\n",
       "                In-sample GMV 2018  Out-of-sample GMV 2018  \\\n",
       "AHOLD DELHAIZE              0.2261                  0.1322   \n",
       "L'AIR LIQUIDE               0.0439                  0.0649   \n",
       "BASF                        0.0346                  0.0862   \n",
       "SAINT GOBAIN                0.0760                  0.0000   \n",
       "ENDESA                      0.2084                  0.1602   \n",
       "\n",
       "                Out-of-sample resampled GMV 2018  In-sample GMV 2019  \\\n",
       "AHOLD DELHAIZE                            0.1193              0.1560   \n",
       "L'AIR LIQUIDE                             0.0630              0.1218   \n",
       "BASF                                      0.0790              0.0654   \n",
       "SAINT GOBAIN                              0.0667              0.0000   \n",
       "ENDESA                                    0.1422              0.2830   \n",
       "\n",
       "                Out-of-sample GMV 2019  Out-of-sample resampled GMV 2019  \n",
       "AHOLD DELHAIZE                  0.2261                            0.2223  \n",
       "L'AIR LIQUIDE                   0.0439                            0.0844  \n",
       "BASF                            0.0346                            0.0233  \n",
       "SAINT GOBAIN                    0.0760                            0.0342  \n",
       "ENDESA                          0.2084                            0.1820  \n",
       "\n",
       "[5 rows x 27 columns]"
      ]
     },
     "execution_count": 50,
     "metadata": {},
     "output_type": "execute_result"
    }
   ],
   "source": [
    "gmv_weights = pd.read_excel('Data.xlsx','Weights GMV',index_col=[0])\n",
    "gmv_weights.head()"
   ]
  },
  {
   "cell_type": "code",
   "execution_count": 51,
   "metadata": {},
   "outputs": [
    {
     "data": {
      "image/png": "[encoded data removed]",
      "text/plain": [
       "<Figure size 1080x432 with 5 Axes>"
      ]
     },
     "metadata": {
      "needs_background": "light"
     },
     "output_type": "display_data"
    }
   ],
   "source": [
    "fig, (one_ax, two_ax, three_ax, four_ax, five_ax) = plt.subplots(nrows=1, ncols=5, sharey=True, gridspec_kw={'width_ratios':[1, 1, 1, 1, 1]}, figsize=(15, 6))\n",
    "plt.subplots_adjust(wspace=0.05)\n",
    "    \n",
    "gmv_weights[['In-sample GMV 2011', 'Out-of-sample GMV 2011', 'Out-of-sample resampled GMV 2011']].T.plot.bar(ax=one_ax, stacked=True, legend=False, title='Weights GMV 2011')\n",
    "gmv_weights[['In-sample GMV 2012', 'Out-of-sample GMV 2012', 'Out-of-sample resampled GMV 2012']].T.plot.bar(ax=two_ax, stacked=True, legend=False, title='Weights GMV 2012')\n",
    "gmv_weights[['In-sample GMV 2013', 'Out-of-sample GMV 2013', 'Out-of-sample resampled GMV 2013']].T.plot.bar(ax=three_ax, stacked=True, legend=False, title='Weights GMV 2013')\n",
    "gmv_weights[['In-sample GMV 2014', 'Out-of-sample GMV 2014', 'Out-of-sample resampled GMV 2014']].T.plot.bar(ax=four_ax, stacked=True, legend=False, title='Weights GMV 2014')\n",
    "gmv_weights[['In-sample GMV 2015', 'Out-of-sample GMV 2015', 'Out-of-sample resampled GMV 2015']].T.plot.bar(ax=five_ax, stacked=True, legend=False, title='Weights GMV 2015')\n",
    "plt.show()"
   ]
  },
  {
   "cell_type": "code",
   "execution_count": 52,
   "metadata": {},
   "outputs": [
    {
     "data": {
      "image/png": "[encoded data removed]",
      "text/plain": [
       "<Figure size 1080x432 with 4 Axes>"
      ]
     },
     "metadata": {
      "needs_background": "light"
     },
     "output_type": "display_data"
    }
   ],
   "source": [
    "fig, (one_ax, two_ax, three_ax, four_ax) = plt.subplots(nrows=1, ncols=4, sharey=True, gridspec_kw={'width_ratios':[1, 1, 1, 1]}, figsize=(15, 6))\n",
    "plt.subplots_adjust(wspace=0.05)\n",
    "    \n",
    "gmv_weights[['In-sample GMV 2016', 'Out-of-sample GMV 2016', 'Out-of-sample resampled GMV 2016']].T.plot.bar(ax=one_ax, stacked=True, legend=False, title='Weights GMV 2016')\n",
    "gmv_weights[['In-sample GMV 2017', 'Out-of-sample GMV 2017', 'Out-of-sample resampled GMV 2017']].T.plot.bar(ax=two_ax, stacked=True, legend=False, title='Weights GMV 2017')\n",
    "gmv_weights[['In-sample GMV 2018', 'Out-of-sample GMV 2018', 'Out-of-sample resampled GMV 2018']].T.plot.bar(ax=three_ax, stacked=True, legend=False, title='Weights GMV 2018')\n",
    "gmv_weights[['In-sample GMV 2019', 'Out-of-sample GMV 2019', 'Out-of-sample resampled GMV 2019']].T.plot.bar(ax=four_ax, stacked=True, legend=False, title='Weights GMV 2019')\n",
    "plt.show()"
   ]
  },
  {
   "cell_type": "markdown",
   "metadata": {},
   "source": [
    "As it can be seen from the performed tests, Resampling does not look much more promissing than the Markowitz optimization when it comes to the MSR portfolio. The Black-Litterman, although we were not able to fully test it, seem to give better results if the views of an investor turn out to be correct. As for the GMV portfolio, all the methods generate more or less same results, it is because construction of the GMV portfolio always depend only on covariances and never take into account expected returns.\n",
    "\n",
    "Besides the methods discussed in this notebook, there are other \"robust\" algorithms, for instance, Risk-Budgeting and Risk-Parity models that it would be interesting to test and compare with Markowitz, Resampling and Black-Litterman."
   ]
  }
 ],
 "metadata": {
  "kernelspec": {
   "display_name": "Python 3",
   "language": "python",
   "name": "python3"
  },
  "language_info": {
   "codemirror_mode": {
    "name": "ipython",
    "version": 3
   },
   "file_extension": ".py",
   "mimetype": "text/x-python",
   "name": "python",
   "nbconvert_exporter": "python",
   "pygments_lexer": "ipython3",
   "version": "3.8.3"
  }
 },
 "nbformat": 4,
 "nbformat_minor": 4
}
